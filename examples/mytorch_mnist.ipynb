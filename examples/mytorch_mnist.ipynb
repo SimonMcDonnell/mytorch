{
 "cells": [
  {
   "cell_type": "code",
   "execution_count": 46,
   "metadata": {},
   "outputs": [],
   "source": [
    "import numpy as np\n",
    "import matplotlib.pyplot as plt\n",
    "from tqdm import trange, tqdm\n",
    "import torch\n",
    "import torchvision\n",
    "import sys\n",
    "sys.path.insert(0, \"../\")\n",
    "import mytorch\n",
    "from mytorch.tensor import Tensor\n",
    "from mytorch import nn"
   ]
  },
  {
   "cell_type": "code",
   "execution_count": 128,
   "metadata": {},
   "outputs": [
    {
     "name": "stdout",
     "output_type": "stream",
     "text": [
      "The autoreload extension is already loaded. To reload it, use:\n",
      "  %reload_ext autoreload\n"
     ]
    }
   ],
   "source": [
    "%load_ext autoreload\n",
    "%autoreload 2"
   ]
  },
  {
   "cell_type": "markdown",
   "metadata": {},
   "source": [
    "The aim of this notebook is to recreate the pytorch_mnist notebook using mytorch"
   ]
  },
  {
   "cell_type": "markdown",
   "metadata": {},
   "source": [
    "### Load data"
   ]
  },
  {
   "cell_type": "markdown",
   "metadata": {},
   "source": [
    "I'll use torchvision to load the data just for convenience, all training will be done using only mytorch and numpy"
   ]
  },
  {
   "cell_type": "code",
   "execution_count": 25,
   "metadata": {},
   "outputs": [],
   "source": [
    "train_batch_size = 64\n",
    "test_batch_size = 64"
   ]
  },
  {
   "cell_type": "code",
   "execution_count": 26,
   "metadata": {},
   "outputs": [],
   "source": [
    "train_loader = torch.utils.data.DataLoader(\n",
    "    torchvision.datasets.MNIST('./datasets', train=True, download=True,\n",
    "                              transform=torchvision.transforms.Compose([\n",
    "                                  torchvision.transforms.ToTensor(),\n",
    "                                  torchvision.transforms.Normalize(0, 1)\n",
    "                              ])),\n",
    "    batch_size=train_batch_size, shuffle=True\n",
    ")\n",
    "\n",
    "test_loader = torch.utils.data.DataLoader(\n",
    "    torchvision.datasets.MNIST('./datasets', train=False, download=True,\n",
    "                              transform=torchvision.transforms.Compose([\n",
    "                                  torchvision.transforms.ToTensor(),\n",
    "                                  torchvision.transforms.Normalize(0, 1)\n",
    "                              ])),\n",
    "    batch_size=test_batch_size, shuffle=True\n",
    ")"
   ]
  },
  {
   "cell_type": "code",
   "execution_count": 27,
   "metadata": {},
   "outputs": [
    {
     "data": {
      "image/png": "[encoded data removed]",
      "text/plain": [
       "<Figure size 720x576 with 4 Axes>"
      ]
     },
     "metadata": {
      "needs_background": "light"
     },
     "output_type": "display_data"
    }
   ],
   "source": [
    "# visualize some images\n",
    "train_iter = iter(train_loader)\n",
    "images, labels = train_iter.next()\n",
    "plt.figure(figsize=(10,8))\n",
    "for i in range(4):\n",
    "    ax = plt.subplot(1, 4, i+1)\n",
    "    ax.imshow(images[i].reshape(28, 28))"
   ]
  },
  {
   "cell_type": "markdown",
   "metadata": {},
   "source": [
    "### Build simple neural network using mytorch"
   ]
  },
  {
   "cell_type": "code",
   "execution_count": 140,
   "metadata": {},
   "outputs": [],
   "source": [
    "class Model(nn.Module):\n",
    "    def __init__(self):\n",
    "        self.fc1 = nn.Linear(784, 200)\n",
    "        self.fc2 = nn.Linear(200, 10)\n",
    "        \n",
    "    def forward(self, inputs):\n",
    "        h1 = self.fc1(inputs)\n",
    "        a1 = nn.Relu()(h1)\n",
    "        return self.fc2(a1)"
   ]
  },
  {
   "cell_type": "code",
   "execution_count": 141,
   "metadata": {},
   "outputs": [],
   "source": [
    "model = Model()"
   ]
  },
  {
   "cell_type": "code",
   "execution_count": 142,
   "metadata": {},
   "outputs": [
    {
     "name": "stderr",
     "output_type": "stream",
     "text": [
      "938it [00:14, 65.07it/s]\n",
      "6it [00:00, 59.49it/s]"
     ]
    },
    {
     "name": "stdout",
     "output_type": "stream",
     "text": [
      "Epoch 1, Loss: 123.49416825021679, Accuracy: 0.10379464285714286\n"
     ]
    },
    {
     "name": "stderr",
     "output_type": "stream",
     "text": [
      "938it [00:13, 67.77it/s]\n",
      "5it [00:00, 45.03it/s]"
     ]
    },
    {
     "name": "stdout",
     "output_type": "stream",
     "text": [
      "Epoch 2, Loss: 123.49204933286764, Accuracy: 0.10376132729211088\n"
     ]
    },
    {
     "name": "stderr",
     "output_type": "stream",
     "text": [
      "938it [00:15, 59.69it/s]"
     ]
    },
    {
     "name": "stdout",
     "output_type": "stream",
     "text": [
      "Epoch 3, Loss: 123.47520612861686, Accuracy: 0.10381130063965885\n"
     ]
    },
    {
     "name": "stderr",
     "output_type": "stream",
     "text": [
      "\n"
     ]
    }
   ],
   "source": [
    "lr = 0.01\n",
    "losses = []\n",
    "accuracies = []\n",
    "for epoch in range(3):\n",
    "    total_loss = 0\n",
    "    total_accuracy = 0\n",
    "    for i, data in tqdm(enumerate(train_loader)):\n",
    "        images, labels = data\n",
    "        images = images.numpy() #(64, 1, 28, 28)\n",
    "        if images.shape[0] != train_batch_size:\n",
    "            continue\n",
    "        labels = Tensor(labels.numpy()) #(64,)\n",
    "        batch_size = images.shape[0]\n",
    "        \n",
    "        # forward pass\n",
    "        images = Tensor(images.reshape(batch_size, -1))\n",
    "        outputs = model(images)\n",
    "        \n",
    "        # calculate loss\n",
    "        cross_entropy_loss = nn.CrossEntropyLoss()\n",
    "        loss = cross_entropy_loss(outputs, labels)\n",
    "        losses.append(loss.data)\n",
    "        total_loss += loss.data\n",
    "        \n",
    "        # calculate accuracy\n",
    "        accuracy = (np.argmax(outputs.data, axis=1) == labels.data).sum() / labels.shape[0]\n",
    "        accuracies.append(accuracy)\n",
    "        total_accuracy += accuracy\n",
    "        \n",
    "        # backward pass, compute gradients\n",
    "        loss.backward()\n",
    "        \n",
    "        # SGD update weights\n",
    "#         W1.data = W1.data - lr * W1.grad\n",
    "#         W2.data = W2.data - lr * W2.grad\n",
    "#         b1.data = b1.data - lr * b1.grad\n",
    "#         b2.data = b2.data - lr * b2.grad\n",
    "#         print(W1.shape, W2.shape, b1.shape, b2.shape)\n",
    "    print(f'Epoch {epoch+1}, Loss: {total_loss/(i+1)}, Accuracy: {total_accuracy/(i+1)}')"
   ]
  },
  {
   "cell_type": "code",
   "execution_count": 129,
   "metadata": {},
   "outputs": [],
   "source": [
    "def initialize_weights():\n",
    "    # weights and bias for each layer\n",
    "    return [Tensor(np.random.randn(784, 200), requires_grad=True), Tensor(np.random.randn(200,), requires_grad=True), \n",
    "            Tensor(np.random.randn(200, 10), requires_grad=True), Tensor(np.random.randn(10,), requires_grad=True)]"
   ]
  },
  {
   "cell_type": "code",
   "execution_count": 130,
   "metadata": {},
   "outputs": [
    {
     "name": "stderr",
     "output_type": "stream",
     "text": [
      "\r",
      "0it [00:00, ?it/s]"
     ]
    },
    {
     "name": "stdout",
     "output_type": "stream",
     "text": [
      "Length of graph***********: 10\n",
      "Length of graph***********: 10\n",
      "Length of graph***********: 10\n"
     ]
    },
    {
     "name": "stderr",
     "output_type": "stream",
     "text": [
      "\r",
      "4it [00:00, 31.71it/s]"
     ]
    },
    {
     "name": "stdout",
     "output_type": "stream",
     "text": [
      "Length of graph***********: 10\n",
      "Length of graph***********: 10\n",
      "Length of graph***********: 10\n"
     ]
    },
    {
     "name": "stderr",
     "output_type": "stream",
     "text": [
      "\r",
      "7it [00:00, 27.45it/s]"
     ]
    },
    {
     "name": "stdout",
     "output_type": "stream",
     "text": [
      "Length of graph***********: 10\n",
      "Length of graph***********: 10\n"
     ]
    },
    {
     "name": "stderr",
     "output_type": "stream",
     "text": [
      "\r",
      "11it [00:00, 29.65it/s]"
     ]
    },
    {
     "name": "stdout",
     "output_type": "stream",
     "text": [
      "Length of graph***********: 10\n",
      "Length of graph***********: 10\n",
      "Length of graph***********: 10\n",
      "Length of graph***********: 10\n",
      "Length of graph***********: 10\n"
     ]
    },
    {
     "name": "stderr",
     "output_type": "stream",
     "text": [
      "\r",
      "14it [00:00, 28.42it/s]"
     ]
    },
    {
     "name": "stdout",
     "output_type": "stream",
     "text": [
      "Length of graph***********: 10\n",
      "Length of graph***********: 10\n"
     ]
    },
    {
     "name": "stderr",
     "output_type": "stream",
     "text": [
      "\r",
      "18it [00:00, 30.10it/s]"
     ]
    },
    {
     "name": "stdout",
     "output_type": "stream",
     "text": [
      "Length of graph***********: 10\n",
      "Length of graph***********: 10\n",
      "Length of graph***********: 10\n",
      "Length of graph***********: 10\n"
     ]
    },
    {
     "name": "stderr",
     "output_type": "stream",
     "text": [
      "\r",
      "21it [00:00, 28.45it/s]"
     ]
    },
    {
     "name": "stdout",
     "output_type": "stream",
     "text": [
      "Length of graph***********: 10\n",
      "Length of graph***********: 10\n",
      "Length of graph***********: 10\n",
      "Length of graph***********: 10\n",
      "Length of graph***********: 10\n"
     ]
    },
    {
     "name": "stderr",
     "output_type": "stream",
     "text": [
      "\r",
      "24it [00:00, 28.28it/s]"
     ]
    },
    {
     "name": "stdout",
     "output_type": "stream",
     "text": [
      "Length of graph***********: 10\n",
      "Length of graph***********: 10\n"
     ]
    },
    {
     "name": "stderr",
     "output_type": "stream",
     "text": [
      "\r",
      "28it [00:00, 30.48it/s]"
     ]
    },
    {
     "name": "stdout",
     "output_type": "stream",
     "text": [
      "Length of graph***********: 10\n",
      "Length of graph***********: 10\n",
      "Length of graph***********: 10\n",
      "Length of graph***********: 10\n",
      "Length of graph***********: 10\n"
     ]
    },
    {
     "name": "stderr",
     "output_type": "stream",
     "text": [
      "\r",
      "33it [00:01, 34.15it/s]"
     ]
    },
    {
     "name": "stdout",
     "output_type": "stream",
     "text": [
      "Length of graph***********: 10\n",
      "Length of graph***********: 10\n",
      "Length of graph***********: 10\n"
     ]
    },
    {
     "name": "stderr",
     "output_type": "stream",
     "text": [
      "\r",
      "37it [00:01, 32.60it/s]"
     ]
    },
    {
     "name": "stdout",
     "output_type": "stream",
     "text": [
      "Length of graph***********: 10\n",
      "Length of graph***********: 10\n",
      "Length of graph***********: 10\n",
      "Length of graph***********: 10\n",
      "Length of graph***********: 10\n",
      "Length of graph***********: 10\n",
      "Length of graph***********: 10\n"
     ]
    },
    {
     "name": "stderr",
     "output_type": "stream",
     "text": [
      "\r",
      "42it [00:01, 35.74it/s]"
     ]
    },
    {
     "name": "stdout",
     "output_type": "stream",
     "text": [
      "Length of graph***********: 10\n"
     ]
    },
    {
     "name": "stderr",
     "output_type": "stream",
     "text": [
      "\r",
      "46it [00:01, 35.93it/s]"
     ]
    },
    {
     "name": "stdout",
     "output_type": "stream",
     "text": [
      "Length of graph***********: 10\n",
      "Length of graph***********: 10\n",
      "Length of graph***********: 10\n",
      "Length of graph***********: 10\n",
      "Length of graph***********: 10\n",
      "Length of graph***********: 10\n",
      "Length of graph***********: 10\n",
      "Length of graph***********: 10"
     ]
    },
    {
     "name": "stderr",
     "output_type": "stream",
     "text": [
      "\r",
      "51it [00:01, 37.77it/s]"
     ]
    },
    {
     "name": "stdout",
     "output_type": "stream",
     "text": [
      "\n",
      "Length of graph***********: 10\n"
     ]
    },
    {
     "name": "stderr",
     "output_type": "stream",
     "text": [
      "\r",
      "56it [00:01, 39.44it/s]"
     ]
    },
    {
     "name": "stdout",
     "output_type": "stream",
     "text": [
      "Length of graph***********: 10\n",
      "Length of graph***********: 10\n",
      "Length of graph***********: 10\n",
      "Length of graph***********: 10\n",
      "Length of graph***********: 10\n",
      "Length of graph***********: 10\n",
      "Length of graph***********: 10\n",
      "Length of graph***********: 10\n",
      "Length of graph***********: 10\n"
     ]
    },
    {
     "name": "stderr",
     "output_type": "stream",
     "text": [
      "\r",
      "61it [00:01, 37.92it/s]"
     ]
    },
    {
     "name": "stdout",
     "output_type": "stream",
     "text": [
      "Length of graph***********: 10\n",
      "Length of graph***********: 10\n",
      "Length of graph***********: 10\n",
      "Length of graph***********: 10\n"
     ]
    },
    {
     "name": "stderr",
     "output_type": "stream",
     "text": [
      "\r",
      "66it [00:01, 38.95it/s]"
     ]
    },
    {
     "name": "stdout",
     "output_type": "stream",
     "text": [
      "Length of graph***********: 10\n",
      "Length of graph***********: 10\n",
      "Length of graph***********: 10\n",
      "Length of graph***********: 10\n"
     ]
    },
    {
     "name": "stderr",
     "output_type": "stream",
     "text": [
      "\r",
      "70it [00:02, 35.39it/s]"
     ]
    },
    {
     "name": "stdout",
     "output_type": "stream",
     "text": [
      "Length of graph***********: 10\n",
      "Length of graph***********: 10\n",
      "Length of graph***********: 10\n",
      "Length of graph***********: 10\n"
     ]
    },
    {
     "name": "stderr",
     "output_type": "stream",
     "text": [
      "\r",
      "74it [00:02, 33.27it/s]"
     ]
    },
    {
     "name": "stdout",
     "output_type": "stream",
     "text": [
      "Length of graph***********: 10\n",
      "Length of graph***********: 10\n"
     ]
    },
    {
     "name": "stderr",
     "output_type": "stream",
     "text": [
      "\r",
      "78it [00:02, 33.84it/s]"
     ]
    },
    {
     "name": "stdout",
     "output_type": "stream",
     "text": [
      "Length of graph***********: 10\n",
      "Length of graph***********: 10\n",
      "Length of graph***********: 10\n",
      "Length of graph***********: 10\n",
      "Length of graph***********: 10\n",
      "Length of graph***********: 10\n"
     ]
    },
    {
     "name": "stderr",
     "output_type": "stream",
     "text": [
      "\r",
      "83it [00:02, 37.20it/s]"
     ]
    },
    {
     "name": "stdout",
     "output_type": "stream",
     "text": [
      "Length of graph***********: 10\n",
      "Length of graph***********: 10\n",
      "Length of graph***********: 10\n",
      "Length of graph***********: 10\n"
     ]
    },
    {
     "name": "stderr",
     "output_type": "stream",
     "text": [
      "\r",
      "89it [00:02, 41.45it/s]"
     ]
    },
    {
     "name": "stdout",
     "output_type": "stream",
     "text": [
      "Length of graph***********: 10\n",
      "Length of graph***********: 10\n",
      "Length of graph***********: 10\n",
      "Length of graph***********: 10\n",
      "Length of graph***********: 10\n",
      "Length of graph***********: 10\n",
      "Length of graph***********: 10\n"
     ]
    },
    {
     "name": "stderr",
     "output_type": "stream",
     "text": [
      "\r",
      "94it [00:02, 41.60it/s]"
     ]
    },
    {
     "name": "stdout",
     "output_type": "stream",
     "text": [
      "Length of graph***********: 10\n",
      "Length of graph***********: 10\n",
      "Length of graph***********: 10\n",
      "Length of graph***********: 10\n",
      "Length of graph***********: 10\n",
      "Length of graph***********: 10\n",
      "Length of graph***********: 10\n",
      "Length of graph***********: 10\n"
     ]
    },
    {
     "name": "stderr",
     "output_type": "stream",
     "text": [
      "\r",
      "99it [00:02, 39.12it/s]"
     ]
    },
    {
     "name": "stdout",
     "output_type": "stream",
     "text": [
      "Length of graph***********: 10\n"
     ]
    },
    {
     "name": "stderr",
     "output_type": "stream",
     "text": [
      "\r",
      "104it [00:02, 36.36it/s]"
     ]
    },
    {
     "name": "stdout",
     "output_type": "stream",
     "text": [
      "Length of graph***********: 10\n",
      "Length of graph***********: 10\n",
      "Length of graph***********: 10\n",
      "Length of graph***********: 10\n",
      "Length of graph***********: 10\n",
      "Length of graph***********: 10\n",
      "Length of graph***********: 10\n",
      "Length of graph***********: 10\n"
     ]
    },
    {
     "name": "stderr",
     "output_type": "stream",
     "text": [
      "\r",
      "110it [00:03, 39.99it/s]"
     ]
    },
    {
     "name": "stdout",
     "output_type": "stream",
     "text": [
      "Length of graph***********: 10\n",
      "Length of graph***********: 10\n"
     ]
    },
    {
     "name": "stderr",
     "output_type": "stream",
     "text": [
      "\r",
      "116it [00:03, 43.59it/s]"
     ]
    },
    {
     "name": "stdout",
     "output_type": "stream",
     "text": [
      "Length of graph***********: 10\n",
      "Length of graph***********: 10\n",
      "Length of graph***********: 10\n",
      "Length of graph***********: 10\n",
      "Length of graph***********: 10\n",
      "Length of graph***********: 10\n",
      "Length of graph***********: 10\n",
      "Length of graph***********: 10\n",
      "Length of graph***********: 10\n",
      "Length of graph***********: 10\n",
      "Length of graph***********: 10\n",
      "Length of graph***********: 10\n"
     ]
    },
    {
     "name": "stderr",
     "output_type": "stream",
     "text": [
      "\r",
      "122it [00:03, 45.84it/s]"
     ]
    },
    {
     "name": "stdout",
     "output_type": "stream",
     "text": [
      "Length of graph***********: 10\n",
      "Length of graph***********: 10\n",
      "Length of graph***********: 10\n",
      "Length of graph***********: 10\n",
      "Length of graph***********: 10\n"
     ]
    },
    {
     "name": "stderr",
     "output_type": "stream",
     "text": [
      "\r",
      "128it [00:03, 47.47it/s]"
     ]
    },
    {
     "name": "stdout",
     "output_type": "stream",
     "text": [
      "Length of graph***********: 10\n",
      "Length of graph***********: 10\n",
      "Length of graph***********: 10\n",
      "Length of graph***********: 10\n",
      "Length of graph***********: 10\n"
     ]
    },
    {
     "name": "stderr",
     "output_type": "stream",
     "text": [
      "\r",
      "133it [00:03, 45.08it/s]"
     ]
    },
    {
     "name": "stdout",
     "output_type": "stream",
     "text": [
      "Length of graph***********: 10\n",
      "Length of graph***********: 10\n",
      "Length of graph***********: 10\n",
      "Length of graph***********: 10\n",
      "Length of graph***********: 10\n"
     ]
    },
    {
     "name": "stderr",
     "output_type": "stream",
     "text": [
      "\r",
      "139it [00:03, 47.61it/s]"
     ]
    },
    {
     "name": "stdout",
     "output_type": "stream",
     "text": [
      "Length of graph***********: 10\n",
      "Length of graph***********: 10\n",
      "Length of graph***********: 10\n",
      "Length of graph***********: 10\n",
      "Length of graph***********: 10\n",
      "Length of graph***********: 10\n"
     ]
    },
    {
     "name": "stderr",
     "output_type": "stream",
     "text": [
      "\r",
      "144it [00:03, 46.43it/s]"
     ]
    },
    {
     "name": "stdout",
     "output_type": "stream",
     "text": [
      "Length of graph***********: 10\n",
      "Length of graph***********: 10\n",
      "Length of graph***********: 10\n",
      "Length of graph***********: "
     ]
    },
    {
     "name": "stderr",
     "output_type": "stream",
     "text": [
      "\r",
      "149it [00:03, 45.25it/s]"
     ]
    },
    {
     "name": "stdout",
     "output_type": "stream",
     "text": [
      "10\n",
      "Length of graph***********: 10\n",
      "Length of graph***********: 10\n",
      "Length of graph***********: 10\n",
      "Length of graph***********: 10\n",
      "Length of graph***********: 10\n"
     ]
    },
    {
     "name": "stderr",
     "output_type": "stream",
     "text": [
      "\r",
      "154it [00:03, 44.20it/s]"
     ]
    },
    {
     "name": "stdout",
     "output_type": "stream",
     "text": [
      "Length of graph***********: 10\n",
      "Length of graph***********: 10\n",
      "Length of graph***********: 10\n",
      "Length of graph***********: 10\n",
      "Length of graph***********: 10\n",
      "Length of graph***********: 10\n"
     ]
    },
    {
     "name": "stderr",
     "output_type": "stream",
     "text": [
      "\r",
      "159it [00:04, 42.37it/s]"
     ]
    },
    {
     "name": "stdout",
     "output_type": "stream",
     "text": [
      "Length of graph***********: 10\n",
      "Length of graph***********: 10\n",
      "Length of graph***********: 10\n"
     ]
    },
    {
     "name": "stderr",
     "output_type": "stream",
     "text": [
      "\r",
      "164it [00:04, 42.70it/s]"
     ]
    },
    {
     "name": "stdout",
     "output_type": "stream",
     "text": [
      "Length of graph***********: 10\n",
      "Length of graph***********: 10\n",
      "Length of graph***********: 10\n",
      "Length of graph***********: 10\n",
      "Length of graph***********: 10\n",
      "Length of graph***********: 10\n"
     ]
    },
    {
     "name": "stderr",
     "output_type": "stream",
     "text": [
      "\r",
      "169it [00:04, 42.53it/s]"
     ]
    },
    {
     "name": "stdout",
     "output_type": "stream",
     "text": [
      "Length of graph***********: 10\n",
      "Length of graph***********: 10\n",
      "Length of graph***********: 10\n",
      "Length of graph***********: 10\n",
      "Length of graph***********: 10\n",
      "Length of graph***********: 10\n"
     ]
    },
    {
     "name": "stderr",
     "output_type": "stream",
     "text": [
      "\r",
      "174it [00:04, 40.94it/s]"
     ]
    },
    {
     "name": "stdout",
     "output_type": "stream",
     "text": [
      "Length of graph***********: 10\n",
      "Length of graph***********: 10\n"
     ]
    },
    {
     "name": "stderr",
     "output_type": "stream",
     "text": [
      "\r",
      "179it [00:04, 42.26it/s]"
     ]
    },
    {
     "name": "stdout",
     "output_type": "stream",
     "text": [
      "Length of graph***********: 10\n",
      "Length of graph***********: 10\n",
      "Length of graph***********: 10\n",
      "Length of graph***********: 10\n",
      "Length of graph***********: 10\n",
      "Length of graph***********: 10\n",
      "Length of graph***********: 10\n",
      "Length of graph***********: 10\n"
     ]
    },
    {
     "name": "stderr",
     "output_type": "stream",
     "text": [
      "\r",
      "185it [00:04, 44.07it/s]"
     ]
    },
    {
     "name": "stdout",
     "output_type": "stream",
     "text": [
      "Length of graph***********: 10\n",
      "Length of graph***********: 10\n",
      "Length of graph***********: 10\n",
      "Length of graph***********: 10\n",
      "Length of graph***********: 10\n",
      "Length of graph***********: 10\n",
      "Length of graph***********: 10\n"
     ]
    },
    {
     "name": "stderr",
     "output_type": "stream",
     "text": [
      "\r",
      "190it [00:04, 45.25it/s]"
     ]
    },
    {
     "name": "stdout",
     "output_type": "stream",
     "text": [
      "Length of graph***********: 10\n",
      "Length of graph***********: 10\n",
      "Length of graph***********: 10\n"
     ]
    },
    {
     "name": "stderr",
     "output_type": "stream",
     "text": [
      "\r",
      "195it [00:04, 45.22it/s]"
     ]
    },
    {
     "name": "stdout",
     "output_type": "stream",
     "text": [
      "Length of graph***********: 10\n",
      "Length of graph***********: 10\n",
      "Length of graph***********: 10\n",
      "Length of graph***********: 10\n",
      "Length of graph***********: 10\n",
      "Length of graph***********: 10\n",
      "Length of graph***********: 10\n"
     ]
    },
    {
     "name": "stderr",
     "output_type": "stream",
     "text": [
      "\r",
      "200it [00:05, 45.31it/s]"
     ]
    },
    {
     "name": "stdout",
     "output_type": "stream",
     "text": [
      "Length of graph***********: 10\n",
      "Length of graph***********: 10\n",
      "Length of graph***********: 10\n"
     ]
    },
    {
     "name": "stderr",
     "output_type": "stream",
     "text": [
      "\r",
      "205it [00:05, 45.77it/s]"
     ]
    },
    {
     "name": "stdout",
     "output_type": "stream",
     "text": [
      "Length of graph***********: 10\n",
      "Length of graph***********: 10\n"
     ]
    },
    {
     "name": "stderr",
     "output_type": "stream",
     "text": [
      "\r",
      "210it [00:05, 45.98it/s]"
     ]
    },
    {
     "name": "stdout",
     "output_type": "stream",
     "text": [
      "Length of graph***********: 10\n",
      "Length of graph***********: 10\n",
      "Length of graph***********: 10\n",
      "Length of graph***********: 10\n",
      "Length of graph***********: 10\n",
      "Length of graph***********: 10\n",
      "Length of graph***********: 10\n",
      "Length of graph***********: 10\n"
     ]
    },
    {
     "name": "stderr",
     "output_type": "stream",
     "text": [
      "\r",
      "215it [00:05, 45.69it/s]"
     ]
    },
    {
     "name": "stdout",
     "output_type": "stream",
     "text": [
      "Length of graph***********: 10\n",
      "Length of graph***********: 10\n"
     ]
    },
    {
     "name": "stderr",
     "output_type": "stream",
     "text": [
      "\r",
      "220it [00:05, 46.38it/s]"
     ]
    },
    {
     "name": "stdout",
     "output_type": "stream",
     "text": [
      "Length of graph***********: 10\n",
      "Length of graph***********: 10\n",
      "Length of graph***********: 10\n",
      "Length of graph***********: 10\n",
      "Length of graph***********: 10\n",
      "Length of graph***********: 10\n",
      "Length of graph***********: 10\n",
      "Length of graph***********: 10\n"
     ]
    },
    {
     "name": "stderr",
     "output_type": "stream",
     "text": [
      "\r",
      "225it [00:05, 46.33it/s]"
     ]
    },
    {
     "name": "stdout",
     "output_type": "stream",
     "text": [
      "Length of graph***********: 10\n",
      "Length of graph***********: 10\n"
     ]
    },
    {
     "name": "stderr",
     "output_type": "stream",
     "text": [
      "\r",
      "231it [00:05, 47.96it/s]"
     ]
    },
    {
     "name": "stdout",
     "output_type": "stream",
     "text": [
      "Length of graph***********: 10\n",
      "Length of graph***********: 10\n",
      "Length of graph***********: 10\n",
      "Length of graph***********: 10\n",
      "Length of graph***********: 10\n",
      "Length of graph***********: 10\n",
      "Length of graph***********: 10\n",
      "Length of graph***********: 10\n",
      "Length of graph***********: 10\n",
      "Length of graph***********: 10\n",
      "Length of graph***********: 10\n",
      "Length of graph***********: 10\n"
     ]
    },
    {
     "name": "stderr",
     "output_type": "stream",
     "text": [
      "\r",
      "237it [00:05, 49.07it/s]"
     ]
    },
    {
     "name": "stdout",
     "output_type": "stream",
     "text": [
      "Length of graph***********: 10\n",
      "Length of graph***********: 10\n",
      "Length of graph***********: 10\n",
      "Length of graph***********: 10\n",
      "Length of graph***********: 10\n"
     ]
    },
    {
     "name": "stderr",
     "output_type": "stream",
     "text": [
      "\r",
      "243it [00:05, 49.33it/s]"
     ]
    },
    {
     "name": "stdout",
     "output_type": "stream",
     "text": [
      "Length of graph***********: 10\n",
      "Length of graph***********: 10\n",
      "Length of graph***********: 10\n"
     ]
    },
    {
     "name": "stderr",
     "output_type": "stream",
     "text": [
      "\r",
      "248it [00:05, 49.38it/s]"
     ]
    },
    {
     "name": "stdout",
     "output_type": "stream",
     "text": [
      "Length of graph***********: 10\n",
      "Length of graph***********: 10\n",
      "Length of graph***********: 10\n",
      "Length of graph***********: 10\n",
      "Length of graph***********: 10\n",
      "Length of graph***********: 10\n",
      "Length of graph***********: 10\n",
      "Length of graph***********: 10\n"
     ]
    },
    {
     "name": "stderr",
     "output_type": "stream",
     "text": [
      "\r",
      "254it [00:06, 52.04it/s]"
     ]
    },
    {
     "name": "stdout",
     "output_type": "stream",
     "text": [
      "Length of graph***********: 10\n",
      "Length of graph***********: 10\n",
      "Length of graph***********: 10\n",
      "Length of graph***********: 10\n",
      "Length of graph***********: 10\n",
      "Length of graph***********: 10\n",
      "Length of graph***********: 10\n"
     ]
    },
    {
     "name": "stderr",
     "output_type": "stream",
     "text": [
      "\r",
      "260it [00:06, 51.20it/s]"
     ]
    },
    {
     "name": "stdout",
     "output_type": "stream",
     "text": [
      "Length of graph***********: 10\n",
      "Length of graph***********: 10\n",
      "Length of graph***********: 10\n"
     ]
    },
    {
     "name": "stderr",
     "output_type": "stream",
     "text": [
      "\r",
      "266it [00:06, 48.73it/s]"
     ]
    },
    {
     "name": "stdout",
     "output_type": "stream",
     "text": [
      "Length of graph***********: 10\n",
      "Length of graph***********: 10\n",
      "Length of graph***********: 10\n",
      "Length of graph***********: 10\n",
      "Length of graph***********: 10\n",
      "Length of graph***********: 10\n",
      "Length of graph***********: 10\n"
     ]
    },
    {
     "name": "stderr",
     "output_type": "stream",
     "text": [
      "\r",
      "271it [00:06, 47.22it/s]"
     ]
    },
    {
     "name": "stdout",
     "output_type": "stream",
     "text": [
      "Length of graph***********: 10\n",
      "Length of graph***********: 10\n"
     ]
    },
    {
     "name": "stderr",
     "output_type": "stream",
     "text": [
      "\r",
      "276it [00:06, 47.01it/s]"
     ]
    },
    {
     "name": "stdout",
     "output_type": "stream",
     "text": [
      "Length of graph***********: 10\n",
      "Length of graph***********: 10\n",
      "Length of graph***********: 10\n",
      "Length of graph***********: 10\n",
      "Length of graph***********: 10\n",
      "Length of graph***********: 10\n",
      "Length of graph***********: 10\n",
      "Length of graph***********: 10\n"
     ]
    },
    {
     "name": "stderr",
     "output_type": "stream",
     "text": [
      "\r",
      "282it [00:06, 47.81it/s]"
     ]
    },
    {
     "name": "stdout",
     "output_type": "stream",
     "text": [
      "Length of graph***********: 10\n",
      "Length of graph***********: 10\n",
      "Length of graph***********: 10\n",
      "Length of graph***********: 10\n",
      "Length of graph***********: 10\n",
      "Length of graph***********: 10\n"
     ]
    },
    {
     "name": "stderr",
     "output_type": "stream",
     "text": [
      "\r",
      "287it [00:06, 44.61it/s]"
     ]
    },
    {
     "name": "stdout",
     "output_type": "stream",
     "text": [
      "Length of graph***********: 10\n",
      "Length of graph***********: 10\n",
      "Length of graph***********: 10\n",
      "Length of graph***********: 10\n"
     ]
    },
    {
     "name": "stderr",
     "output_type": "stream",
     "text": [
      "\r",
      "292it [00:06, 42.99it/s]"
     ]
    },
    {
     "name": "stdout",
     "output_type": "stream",
     "text": [
      "Length of graph***********: 10\n",
      "Length of graph***********: 10\n",
      "Length of graph***********: 10\n",
      "Length of graph***********: 10\n",
      "Length of graph***********: 10\n"
     ]
    },
    {
     "name": "stderr",
     "output_type": "stream",
     "text": [
      "\r",
      "297it [00:07, 43.18it/s]"
     ]
    },
    {
     "name": "stdout",
     "output_type": "stream",
     "text": [
      "Length of graph***********: 10\n",
      "Length of graph***********: 10\n",
      "Length of graph***********: 10\n",
      "Length of graph***********: 10\n"
     ]
    },
    {
     "name": "stderr",
     "output_type": "stream",
     "text": [
      "\r",
      "302it [00:07, 43.73it/s]"
     ]
    },
    {
     "name": "stdout",
     "output_type": "stream",
     "text": [
      "Length of graph***********: 10\n",
      "Length of graph***********: 10\n",
      "Length of graph***********: 10\n",
      "Length of graph***********: 10\n",
      "Length of graph***********: 10\n",
      "Length of graph***********: 10\n"
     ]
    },
    {
     "name": "stderr",
     "output_type": "stream",
     "text": [
      "\r",
      "308it [00:07, 45.40it/s]"
     ]
    },
    {
     "name": "stdout",
     "output_type": "stream",
     "text": [
      "Length of graph***********: 10\n",
      "Length of graph***********: 10\n",
      "Length of graph***********: 10\n",
      "Length of graph***********: 10\n"
     ]
    },
    {
     "name": "stderr",
     "output_type": "stream",
     "text": [
      "\r",
      "313it [00:07, 45.32it/s]"
     ]
    },
    {
     "name": "stdout",
     "output_type": "stream",
     "text": [
      "Length of graph***********: 10\n",
      "Length of graph***********: 10\n",
      "Length of graph***********: 10\n",
      "Length of graph***********: 10\n",
      "Length of graph***********: 10\n",
      "Length of graph***********: 10\n"
     ]
    },
    {
     "name": "stderr",
     "output_type": "stream",
     "text": [
      "\r",
      "318it [00:07, 46.48it/s]"
     ]
    },
    {
     "name": "stdout",
     "output_type": "stream",
     "text": [
      "Length of graph***********: 10\n",
      "Length of graph***********: 10\n",
      "Length of graph***********: 10\n",
      "Length of graph***********: 10\n"
     ]
    },
    {
     "name": "stderr",
     "output_type": "stream",
     "text": [
      "\r",
      "323it [00:07, 45.14it/s]"
     ]
    },
    {
     "name": "stdout",
     "output_type": "stream",
     "text": [
      "Length of graph***********: 10\n",
      "Length of graph***********: 10\n",
      "Length of graph***********: 10\n",
      "Length of graph***********: 10\n",
      "Length of graph***********: 10\n",
      "Length of graph***********: 10\n",
      "Length of graph***********: 10\n",
      "Length of graph***********: 10\n",
      "Length of graph***********: 10\n"
     ]
    },
    {
     "name": "stderr",
     "output_type": "stream",
     "text": [
      "334it [00:07, 46.30it/s]"
     ]
    },
    {
     "name": "stdout",
     "output_type": "stream",
     "text": [
      "Length of graph***********: 10\n",
      "Length of graph***********: 10\n",
      "Length of graph***********: 10\n",
      "Length of graph***********: 10\n",
      "Length of graph***********: 10\n",
      "Length of graph***********: 10\n",
      "Length of graph***********: 10\n",
      "Length of graph***********: 10\n",
      "Length of graph***********: 10\n",
      "Length of graph***********: 10\n",
      "Length of graph***********: 10\n"
     ]
    },
    {
     "name": "stderr",
     "output_type": "stream",
     "text": [
      "346it [00:08, 49.14it/s]"
     ]
    },
    {
     "name": "stdout",
     "output_type": "stream",
     "text": [
      "Length of graph***********: 10\n",
      "Length of graph***********: 10\n",
      "Length of graph***********: 10\n",
      "Length of graph***********: 10\n",
      "Length of graph***********: 10\n",
      "Length of graph***********: 10\n",
      "Length of graph***********: 10\n",
      "Length of graph***********: 10\n",
      "Length of graph***********: 10\n",
      "Length of graph***********: 10\n"
     ]
    },
    {
     "name": "stderr",
     "output_type": "stream",
     "text": [
      "\r",
      "351it [00:08, 46.51it/s]"
     ]
    },
    {
     "name": "stdout",
     "output_type": "stream",
     "text": [
      "Length of graph***********: 10\n",
      "Length of graph***********: 10\n",
      "Length of graph***********: 10\n",
      "Length of graph***********: 10\n",
      "Length of graph***********: 10\n",
      "Length of graph***********: 10\n",
      "Length of graph***********: 10\n"
     ]
    },
    {
     "name": "stderr",
     "output_type": "stream",
     "text": [
      "\r",
      "356it [00:08, 46.55it/s]"
     ]
    },
    {
     "name": "stdout",
     "output_type": "stream",
     "text": [
      "Length of graph***********: 10\n",
      "Length of graph***********: 10\n",
      "Length of graph***********: 10\n"
     ]
    },
    {
     "name": "stderr",
     "output_type": "stream",
     "text": [
      "367it [00:08, 50.00it/s]"
     ]
    },
    {
     "name": "stdout",
     "output_type": "stream",
     "text": [
      "Length of graph***********: 10\n",
      "Length of graph***********: 10\n",
      "Length of graph***********: 10\n",
      "Length of graph***********: 10\n",
      "Length of graph***********: 10\n",
      "Length of graph***********: 10\n",
      "Length of graph***********: 10\n",
      "Length of graph***********: 10\n",
      "Length of graph***********: 10\n",
      "Length of graph***********: 10\n",
      "Length of graph***********: 10\n",
      "Length of graph***********: 10\n"
     ]
    },
    {
     "name": "stderr",
     "output_type": "stream",
     "text": [
      "\r",
      "373it [00:08, 50.46it/s]"
     ]
    },
    {
     "name": "stdout",
     "output_type": "stream",
     "text": [
      "Length of graph***********: 10\n",
      "Length of graph***********: 10\n",
      "Length of graph***********: 10\n",
      "Length of graph***********: 10\n",
      "Length of graph***********: 10\n",
      "Length of graph***********: 10\n",
      "Length of graph***********: 10\n"
     ]
    },
    {
     "name": "stderr",
     "output_type": "stream",
     "text": [
      "\r",
      "379it [00:08, 51.34it/s]"
     ]
    },
    {
     "name": "stdout",
     "output_type": "stream",
     "text": [
      "Length of graph***********: 10\n",
      "Length of graph***********: 10\n",
      "Length of graph***********: 10\n",
      "Length of graph***********: 10\n"
     ]
    },
    {
     "name": "stderr",
     "output_type": "stream",
     "text": [
      "\r",
      "385it [00:08, 50.85it/s]"
     ]
    },
    {
     "name": "stdout",
     "output_type": "stream",
     "text": [
      "Length of graph***********: 10\n",
      "Length of graph***********: 10\n",
      "Length of graph***********: 10\n",
      "Length of graph***********: 10\n",
      "Length of graph***********: 10\n",
      "Length of graph***********: 10\n"
     ]
    },
    {
     "name": "stderr",
     "output_type": "stream",
     "text": [
      "\r",
      "391it [00:09, 49.11it/s]"
     ]
    },
    {
     "name": "stdout",
     "output_type": "stream",
     "text": [
      "Length of graph***********: 10\n",
      "Length of graph***********: 10\n",
      "Length of graph***********: 10\n",
      "Length of graph***********: 10\n"
     ]
    },
    {
     "name": "stderr",
     "output_type": "stream",
     "text": [
      "\r",
      "396it [00:09, 47.42it/s]"
     ]
    },
    {
     "name": "stdout",
     "output_type": "stream",
     "text": [
      "Length of graph***********: 10\n",
      "Length of graph***********: 10\n",
      "Length of graph***********: 10\n",
      "Length of graph***********: 10\n",
      "Length of graph***********: 10\n",
      "Length of graph***********: 10\n"
     ]
    },
    {
     "name": "stderr",
     "output_type": "stream",
     "text": [
      "\r",
      "401it [00:09, 47.80it/s]"
     ]
    },
    {
     "name": "stdout",
     "output_type": "stream",
     "text": [
      "Length of graph***********: 10\n",
      "Length of graph***********: 10\n",
      "Length of graph***********: 10\n",
      "Length of graph***********: 10\n"
     ]
    },
    {
     "name": "stderr",
     "output_type": "stream",
     "text": [
      "\r",
      "406it [00:09, 46.97it/s]"
     ]
    },
    {
     "name": "stdout",
     "output_type": "stream",
     "text": [
      "Length of graph***********: 10\n",
      "Length of graph***********: 10\n",
      "Length of graph***********: 10\n",
      "Length of graph***********: 10\n",
      "Length of graph***********: 10\n",
      "Length of graph***********: 10\n"
     ]
    },
    {
     "name": "stderr",
     "output_type": "stream",
     "text": [
      "\r",
      "411it [00:09, 46.28it/s]"
     ]
    },
    {
     "name": "stdout",
     "output_type": "stream",
     "text": [
      "Length of graph***********: 10\n",
      "Length of graph***********: 10\n",
      "Length of graph***********: 10\n",
      "Length of graph***********: 10\n"
     ]
    },
    {
     "name": "stderr",
     "output_type": "stream",
     "text": [
      "\r",
      "416it [00:09, 45.83it/s]"
     ]
    },
    {
     "name": "stdout",
     "output_type": "stream",
     "text": [
      "Length of graph***********: 10\n",
      "Length of graph***********: 10\n",
      "Length of graph***********: 10\n",
      "Length of graph***********: 10\n",
      "Length of graph***********: 10\n",
      "Length of graph***********: 10\n"
     ]
    },
    {
     "name": "stderr",
     "output_type": "stream",
     "text": [
      "\r",
      "421it [00:09, 45.10it/s]"
     ]
    },
    {
     "name": "stdout",
     "output_type": "stream",
     "text": [
      "Length of graph***********: 10\n",
      "Length of graph***********: 10\n",
      "Length of graph***********: 10\n",
      "Length of graph***********: 10\n"
     ]
    },
    {
     "name": "stderr",
     "output_type": "stream",
     "text": [
      "\r",
      "426it [00:09, 45.72it/s]"
     ]
    },
    {
     "name": "stdout",
     "output_type": "stream",
     "text": [
      "Length of graph***********: 10\n",
      "Length of graph***********: 10\n",
      "Length of graph***********: 10\n",
      "Length of graph***********: 10\n",
      "Length of graph***********: 10\n",
      "Length of graph***********: 10\n"
     ]
    },
    {
     "name": "stderr",
     "output_type": "stream",
     "text": [
      "\r",
      "431it [00:09, 46.67it/s]"
     ]
    },
    {
     "name": "stdout",
     "output_type": "stream",
     "text": [
      "Length of graph***********: 10\n",
      "Length of graph***********: 10\n",
      "Length of graph***********: 10\n",
      "Length of graph***********: 10\n"
     ]
    },
    {
     "name": "stderr",
     "output_type": "stream",
     "text": [
      "\r",
      "436it [00:09, 47.52it/s]"
     ]
    },
    {
     "name": "stdout",
     "output_type": "stream",
     "text": [
      "Length of graph***********: 10\n",
      "Length of graph***********: 10\n",
      "Length of graph***********: 10\n",
      "Length of graph***********: 10\n",
      "Length of graph***********: 10\n",
      "Length of graph***********: 10\n",
      "Length of graph***********: 10\n"
     ]
    },
    {
     "name": "stderr",
     "output_type": "stream",
     "text": [
      "\r",
      "441it [00:10, 47.83it/s]"
     ]
    },
    {
     "name": "stdout",
     "output_type": "stream",
     "text": [
      "Length of graph***********: 10\n",
      "Length of graph***********: 10\n",
      "Length of graph***********: 10\n",
      "Length of graph***********: 10\n"
     ]
    },
    {
     "name": "stderr",
     "output_type": "stream",
     "text": [
      "\r",
      "446it [00:10, 47.45it/s]"
     ]
    },
    {
     "name": "stdout",
     "output_type": "stream",
     "text": [
      "Length of graph***********: 10\n",
      "Length of graph***********: 10\n",
      "Length of graph***********: 10\n",
      "Length of graph***********: 10\n",
      "Length of graph***********: 10\n",
      "Length of graph***********: 10\n"
     ]
    },
    {
     "name": "stderr",
     "output_type": "stream",
     "text": [
      "\r",
      "452it [00:10, 49.03it/s]"
     ]
    },
    {
     "name": "stdout",
     "output_type": "stream",
     "text": [
      "Length of graph***********: 10\n",
      "Length of graph***********: 10\n",
      "Length of graph***********: 10\n",
      "Length of graph***********: 10\n",
      "Length of graph***********: 10"
     ]
    },
    {
     "name": "stderr",
     "output_type": "stream",
     "text": [
      "\r",
      "457it [00:10, 47.40it/s]"
     ]
    },
    {
     "name": "stdout",
     "output_type": "stream",
     "text": [
      "\n",
      "Length of graph***********: 10\n",
      "Length of graph***********: 10\n",
      "Length of graph***********: 10\n",
      "Length of graph***********: 10\n",
      "Length of graph***********: 10\n"
     ]
    },
    {
     "name": "stderr",
     "output_type": "stream",
     "text": [
      "\r",
      "462it [00:10, 46.47it/s]"
     ]
    },
    {
     "name": "stdout",
     "output_type": "stream",
     "text": [
      "Length of graph***********: 10\n",
      "Length of graph***********: 10\n",
      "Length of graph***********: 10\n"
     ]
    },
    {
     "name": "stderr",
     "output_type": "stream",
     "text": [
      "\r",
      "468it [00:10, 47.90it/s]"
     ]
    },
    {
     "name": "stdout",
     "output_type": "stream",
     "text": [
      "Length of graph***********: 10\n",
      "Length of graph***********: 10\n",
      "Length of graph***********: 10\n",
      "Length of graph***********: 10\n",
      "Length of graph***********: 10\n",
      "Length of graph***********: 10\n",
      "Length of graph***********: 10\n",
      "Length of graph***********: 10\n"
     ]
    },
    {
     "name": "stderr",
     "output_type": "stream",
     "text": [
      "\r",
      "473it [00:10, 48.28it/s]"
     ]
    },
    {
     "name": "stdout",
     "output_type": "stream",
     "text": [
      "Length of graph***********: 10\n",
      "Length of graph***********: 10\n",
      "Length of graph***********: 10\n"
     ]
    },
    {
     "name": "stderr",
     "output_type": "stream",
     "text": [
      "\r",
      "479it [00:10, 49.49it/s]"
     ]
    },
    {
     "name": "stdout",
     "output_type": "stream",
     "text": [
      "Length of graph***********: 10\n",
      "Length of graph***********: 10\n",
      "Length of graph***********: 10\n",
      "Length of graph***********: 10\n",
      "Length of graph***********: 10\n",
      "Length of graph***********: 10\n",
      "Length of graph***********: 10\n",
      "Length of graph***********: 10\n"
     ]
    },
    {
     "name": "stderr",
     "output_type": "stream",
     "text": [
      "\r",
      "484it [00:10, 48.87it/s]"
     ]
    },
    {
     "name": "stdout",
     "output_type": "stream",
     "text": [
      "Length of graph***********: 10\n",
      "Length of graph***********: 10\n",
      "Length of graph***********: 10\n"
     ]
    },
    {
     "name": "stderr",
     "output_type": "stream",
     "text": [
      "\r",
      "489it [00:11, 48.32it/s]"
     ]
    },
    {
     "name": "stdout",
     "output_type": "stream",
     "text": [
      "Length of graph***********: 10\n",
      "Length of graph***********: 10\n",
      "Length of graph***********: 10\n",
      "Length of graph***********: 10\n",
      "Length of graph***********: 10\n",
      "Length of graph***********: 10\n",
      "Length of graph***********: 10\n"
     ]
    },
    {
     "name": "stderr",
     "output_type": "stream",
     "text": [
      "\r",
      "494it [00:11, 47.38it/s]"
     ]
    },
    {
     "name": "stdout",
     "output_type": "stream",
     "text": [
      "Length of graph***********: 10\n",
      "Length of graph***********: 10\n",
      "Length of graph***********: 10\n"
     ]
    },
    {
     "name": "stderr",
     "output_type": "stream",
     "text": [
      "\r",
      "499it [00:11, 47.37it/s]"
     ]
    },
    {
     "name": "stdout",
     "output_type": "stream",
     "text": [
      "Length of graph***********: 10\n",
      "Length of graph***********: 10\n",
      "Length of graph***********: 10\n",
      "Length of graph***********: 10\n",
      "Length of graph***********: 10\n",
      "Length of graph***********: 10\n",
      "Length of graph***********: 10\n"
     ]
    },
    {
     "name": "stderr",
     "output_type": "stream",
     "text": [
      "\r",
      "504it [00:11, 46.72it/s]"
     ]
    },
    {
     "name": "stdout",
     "output_type": "stream",
     "text": [
      "Length of graph***********: 10\n",
      "Length of graph***********: 10\n",
      "Length of graph***********: 10\n"
     ]
    },
    {
     "name": "stderr",
     "output_type": "stream",
     "text": [
      "\r",
      "509it [00:11, 46.98it/s]"
     ]
    },
    {
     "name": "stdout",
     "output_type": "stream",
     "text": [
      "Length of graph***********: 10\n",
      "Length of graph***********: 10\n",
      "Length of graph***********: 10\n",
      "Length of graph***********: 10\n",
      "Length of graph***********: 10\n",
      "Length of graph***********: 10\n",
      "Length of graph***********: 10\n"
     ]
    },
    {
     "name": "stderr",
     "output_type": "stream",
     "text": [
      "\r",
      "514it [00:11, 47.01it/s]"
     ]
    },
    {
     "name": "stdout",
     "output_type": "stream",
     "text": [
      "Length of graph***********: 10\n",
      "Length of graph***********: 10\n",
      "Length of graph***********: 10\n"
     ]
    },
    {
     "name": "stderr",
     "output_type": "stream",
     "text": [
      "\r",
      "520it [00:11, 48.35it/s]"
     ]
    },
    {
     "name": "stdout",
     "output_type": "stream",
     "text": [
      "Length of graph***********: 10\n",
      "Length of graph***********: 10\n",
      "Length of graph***********: 10\n",
      "Length of graph***********: 10\n",
      "Length of graph***********: 10\n",
      "Length of graph***********: 10\n",
      "Length of graph***********: 10\n",
      "Length of graph***********: 10\n",
      "Length of graph***********: 10\n",
      "Length of graph***********: 10\n",
      "Length of graph***********: 10\n"
     ]
    },
    {
     "name": "stderr",
     "output_type": "stream",
     "text": [
      "531it [00:11, 50.90it/s]"
     ]
    },
    {
     "name": "stdout",
     "output_type": "stream",
     "text": [
      "Length of graph***********: 10\n",
      "Length of graph***********: 10\n",
      "Length of graph***********: 10\n",
      "Length of graph***********: 10\n",
      "Length of graph***********: 10\n",
      "Length of graph***********: 10\n",
      "Length of graph***********: 10\n",
      "Length of graph***********: 10\n",
      "Length of graph***********: 10\n",
      "Length of graph***********: 10\n",
      "Length of graph***********: 10\n"
     ]
    },
    {
     "name": "stderr",
     "output_type": "stream",
     "text": [
      "\r",
      "537it [00:12, 48.57it/s]"
     ]
    },
    {
     "name": "stdout",
     "output_type": "stream",
     "text": [
      "Length of graph***********: 10\n",
      "Length of graph***********: 10\n",
      "Length of graph***********: 10\n",
      "Length of graph***********: 10\n",
      "Length of graph***********: 10\n"
     ]
    },
    {
     "name": "stderr",
     "output_type": "stream",
     "text": [
      "\r",
      "542it [00:12, 44.54it/s]"
     ]
    },
    {
     "name": "stdout",
     "output_type": "stream",
     "text": [
      "Length of graph***********: 10\n",
      "Length of graph***********: 10\n"
     ]
    },
    {
     "name": "stderr",
     "output_type": "stream",
     "text": [
      "\r",
      "547it [00:12, 40.10it/s]"
     ]
    },
    {
     "name": "stdout",
     "output_type": "stream",
     "text": [
      "Length of graph***********: 10\n",
      "Length of graph***********: 10\n",
      "Length of graph***********: 10\n",
      "Length of graph***********: 10\n",
      "Length of graph***********: 10\n",
      "Length of graph***********: 10\n"
     ]
    },
    {
     "name": "stderr",
     "output_type": "stream",
     "text": [
      "\r",
      "552it [00:12, 35.10it/s]"
     ]
    },
    {
     "name": "stdout",
     "output_type": "stream",
     "text": [
      "Length of graph***********: 10\n",
      "Length of graph***********: 10\n",
      "Length of graph***********: 10\n",
      "Length of graph***********: 10\n",
      "Length of graph***********: 10\n",
      "Length of graph***********: 10\n",
      "Length of graph***********: 10\n"
     ]
    },
    {
     "name": "stderr",
     "output_type": "stream",
     "text": [
      "\r",
      "558it [00:12, 38.73it/s]"
     ]
    },
    {
     "name": "stdout",
     "output_type": "stream",
     "text": [
      "Length of graph***********: 10\n",
      "Length of graph***********: 10\n",
      "Length of graph***********: 10\n"
     ]
    },
    {
     "name": "stderr",
     "output_type": "stream",
     "text": [
      "\r",
      "563it [00:12, 40.25it/s]"
     ]
    },
    {
     "name": "stdout",
     "output_type": "stream",
     "text": [
      "Length of graph***********: 10\n",
      "Length of graph***********: 10\n",
      "Length of graph***********: 10\n",
      "Length of graph***********: 10\n",
      "Length of graph***********: 10\n",
      "Length of graph***********: 10\n",
      "Length of graph***********: 10\n"
     ]
    },
    {
     "name": "stderr",
     "output_type": "stream",
     "text": [
      "\r",
      "568it [00:12, 41.45it/s]"
     ]
    },
    {
     "name": "stdout",
     "output_type": "stream",
     "text": [
      "Length of graph***********: 10\n",
      "Length of graph***********: 10\n"
     ]
    },
    {
     "name": "stderr",
     "output_type": "stream",
     "text": [
      "\r",
      "573it [00:12, 42.96it/s]"
     ]
    },
    {
     "name": "stdout",
     "output_type": "stream",
     "text": [
      "Length of graph***********: 10\n",
      "Length of graph***********: 10\n",
      "Length of graph***********: 10\n",
      "Length of graph***********: 10\n",
      "Length of graph***********: 10\n",
      "Length of graph***********: 10\n",
      "Length of graph***********: 10\n",
      "Length of graph***********: 10\n"
     ]
    },
    {
     "name": "stderr",
     "output_type": "stream",
     "text": [
      "\r",
      "578it [00:13, 44.32it/s]"
     ]
    },
    {
     "name": "stdout",
     "output_type": "stream",
     "text": [
      "Length of graph***********: 10\n",
      "Length of graph***********: 10\n"
     ]
    },
    {
     "name": "stderr",
     "output_type": "stream",
     "text": [
      "\r",
      "584it [00:13, 46.60it/s]"
     ]
    },
    {
     "name": "stdout",
     "output_type": "stream",
     "text": [
      "Length of graph***********: 10\n",
      "Length of graph***********: 10\n",
      "Length of graph***********: 10\n",
      "Length of graph***********: 10\n",
      "Length of graph***********: 10\n",
      "Length of graph***********: 10\n",
      "Length of graph***********: 10\n",
      "Length of graph***********: 10\n",
      "Length of graph***********: 10\n",
      "Length of graph***********: 10\n",
      "Length of graph***********: 10\n"
     ]
    },
    {
     "name": "stderr",
     "output_type": "stream",
     "text": [
      "595it [00:13, 42.31it/s]"
     ]
    },
    {
     "name": "stdout",
     "output_type": "stream",
     "text": [
      "Length of graph***********: 10\n",
      "Length of graph***********: 10\n",
      "Length of graph***********: 10\n",
      "Length of graph***********: 10\n",
      "Length of graph***********: 10\n",
      "Length of graph***********: 10\n",
      "Length of graph***********: 10\n"
     ]
    },
    {
     "name": "stderr",
     "output_type": "stream",
     "text": [
      "606it [00:13, 45.80it/s]"
     ]
    },
    {
     "name": "stdout",
     "output_type": "stream",
     "text": [
      "Length of graph***********: 10\n",
      "Length of graph***********: 10\n",
      "Length of graph***********: 10\n",
      "Length of graph***********: 10\n",
      "Length of graph***********: 10\n",
      "Length of graph***********: 10\n",
      "Length of graph***********: 10\n",
      "Length of graph***********: 10\n",
      "Length of graph***********: 10\n",
      "Length of graph***********: 10\n",
      "Length of graph***********: 10\n"
     ]
    },
    {
     "name": "stderr",
     "output_type": "stream",
     "text": [
      "\r",
      "611it [00:13, 42.04it/s]"
     ]
    },
    {
     "name": "stdout",
     "output_type": "stream",
     "text": [
      "Length of graph***********: 10\n",
      "Length of graph***********: 10\n",
      "Length of graph***********: 10\n",
      "Length of graph***********: 10\n",
      "Length of graph***********: 10\n",
      "Length of graph***********: 10\n",
      "Length of graph***********: 10\n"
     ]
    },
    {
     "name": "stderr",
     "output_type": "stream",
     "text": [
      "621it [00:14, 39.09it/s]"
     ]
    },
    {
     "name": "stdout",
     "output_type": "stream",
     "text": [
      "Length of graph***********: 10\n",
      "Length of graph***********: 10\n",
      "Length of graph***********: 10\n",
      "Length of graph***********: 10\n",
      "Length of graph***********: 10\n",
      "Length of graph***********: 10\n",
      "Length of graph***********: 10\n",
      "Length of graph***********: 10\n"
     ]
    },
    {
     "name": "stderr",
     "output_type": "stream",
     "text": [
      "\r",
      "626it [00:14, 36.56it/s]"
     ]
    },
    {
     "name": "stdout",
     "output_type": "stream",
     "text": [
      "Length of graph***********: 10\n",
      "Length of graph***********: 10\n",
      "Length of graph***********: 10\n",
      "Length of graph***********: 10\n",
      "Length of graph***********: 10\n",
      "Length of graph***********: 10\n",
      "Length of graph***********: 10\n"
     ]
    },
    {
     "name": "stderr",
     "output_type": "stream",
     "text": [
      "636it [00:14, 37.16it/s]"
     ]
    },
    {
     "name": "stdout",
     "output_type": "stream",
     "text": [
      "Length of graph***********: 10\n",
      "Length of graph***********: 10\n",
      "Length of graph***********: 10\n",
      "Length of graph***********: 10\n",
      "Length of graph***********: 10\n",
      "Length of graph***********: 10\n",
      "Length of graph***********: 10\n",
      "Length of graph***********: 10\n",
      "Length of graph***********: 10\n",
      "Length of graph***********: 10\n",
      "Length of graph***********: 10\n"
     ]
    },
    {
     "name": "stderr",
     "output_type": "stream",
     "text": [
      "648it [00:14, 43.36it/s]"
     ]
    },
    {
     "name": "stdout",
     "output_type": "stream",
     "text": [
      "Length of graph***********: 10\n",
      "Length of graph***********: 10\n",
      "Length of graph***********: 10\n",
      "Length of graph***********: 10\n",
      "Length of graph***********: 10\n",
      "Length of graph***********: 10\n",
      "Length of graph***********: 10\n",
      "Length of graph***********: 10\n",
      "Length of graph***********: 10\n",
      "Length of graph***********: 10\n",
      "Length of graph***********: 10\n"
     ]
    },
    {
     "name": "stderr",
     "output_type": "stream",
     "text": [
      "660it [00:14, 48.75it/s]"
     ]
    },
    {
     "name": "stdout",
     "output_type": "stream",
     "text": [
      "Length of graph***********: 10\n",
      "Length of graph***********: 10\n",
      "Length of graph***********: 10\n",
      "Length of graph***********: 10\n",
      "Length of graph***********: 10\n",
      "Length of graph***********: 10\n",
      "Length of graph***********: 10\n",
      "Length of graph***********: 10\n",
      "Length of graph***********: 10\n",
      "Length of graph***********: 10\n",
      "Length of graph***********: 10\n",
      "Length of graph***********: 10\n"
     ]
    },
    {
     "name": "stderr",
     "output_type": "stream",
     "text": [
      "\r",
      "666it [00:15, 50.04it/s]"
     ]
    },
    {
     "name": "stdout",
     "output_type": "stream",
     "text": [
      "Length of graph***********: 10\n",
      "Length of graph***********: 10\n",
      "Length of graph***********: 10\n",
      "Length of graph***********: 10\n",
      "Length of graph***********: 10\n",
      "Length of graph***********: 10\n",
      "Length of graph***********: 10\n",
      "Length of graph***********: 10\n"
     ]
    },
    {
     "name": "stderr",
     "output_type": "stream",
     "text": [
      "\r",
      "672it [00:15, 47.24it/s]"
     ]
    },
    {
     "name": "stdout",
     "output_type": "stream",
     "text": [
      "Length of graph***********: 10\n"
     ]
    },
    {
     "name": "stderr",
     "output_type": "stream",
     "text": [
      "\r",
      "677it [00:15, 46.16it/s]"
     ]
    },
    {
     "name": "stdout",
     "output_type": "stream",
     "text": [
      "Length of graph***********: 10\n",
      "Length of graph***********: 10\n",
      "Length of graph***********: 10\n",
      "Length of graph***********: 10\n",
      "Length of graph***********: 10\n",
      "Length of graph***********: 10\n",
      "Length of graph***********: 10\n",
      "Length of graph***********: 10\n",
      "Length of graph***********: 10\n",
      "Length of graph***********: 10\n"
     ]
    },
    {
     "name": "stderr",
     "output_type": "stream",
     "text": [
      "687it [00:15, 44.51it/s]"
     ]
    },
    {
     "name": "stdout",
     "output_type": "stream",
     "text": [
      "Length of graph***********: 10\n",
      "Length of graph***********: 10\n",
      "Length of graph***********: 10\n",
      "Length of graph***********: 10\n",
      "Length of graph***********: 10\n",
      "Length of graph***********: 10\n",
      "Length of graph***********: 10\n",
      "Length of graph***********: 10\n",
      "Length of graph***********: "
     ]
    },
    {
     "name": "stderr",
     "output_type": "stream",
     "text": [
      "697it [00:15, 42.29it/s]"
     ]
    },
    {
     "name": "stdout",
     "output_type": "stream",
     "text": [
      "10\n",
      "Length of graph***********: 10\n",
      "Length of graph***********: 10\n",
      "Length of graph***********: 10\n",
      "Length of graph***********: 10\n",
      "Length of graph***********: 10\n",
      "Length of graph***********: 10\n",
      "Length of graph***********: 10\n",
      "Length of graph***********: 10\n"
     ]
    },
    {
     "name": "stderr",
     "output_type": "stream",
     "text": [
      "\r",
      "702it [00:15, 41.32it/s]"
     ]
    },
    {
     "name": "stdout",
     "output_type": "stream",
     "text": [
      "Length of graph***********: 10\n",
      "Length of graph***********: 10\n",
      "Length of graph***********: 10\n",
      "Length of graph***********: 10\n",
      "Length of graph***********: 10\n",
      "Length of graph***********: 10\n",
      "Length of graph***********: 10\n"
     ]
    },
    {
     "name": "stderr",
     "output_type": "stream",
     "text": [
      "\r",
      "707it [00:16, 40.55it/s]"
     ]
    },
    {
     "name": "stdout",
     "output_type": "stream",
     "text": [
      "Length of graph***********: 10\n"
     ]
    },
    {
     "name": "stderr",
     "output_type": "stream",
     "text": [
      "\r",
      "712it [00:16, 42.45it/s]"
     ]
    },
    {
     "name": "stdout",
     "output_type": "stream",
     "text": [
      "Length of graph***********: 10\n",
      "Length of graph***********: 10\n",
      "Length of graph***********: 10\n",
      "Length of graph***********: 10\n",
      "Length of graph***********: 10\n",
      "Length of graph***********: 10\n",
      "Length of graph***********: 10\n",
      "Length of graph***********: 10\n",
      "Length of graph***********: 10\n",
      "Length of graph***********: 10\n"
     ]
    },
    {
     "name": "stderr",
     "output_type": "stream",
     "text": [
      "\r",
      "718it [00:16, 44.79it/s]"
     ]
    },
    {
     "name": "stdout",
     "output_type": "stream",
     "text": [
      "Length of graph***********: 10\n"
     ]
    },
    {
     "name": "stderr",
     "output_type": "stream",
     "text": [
      "\r",
      "723it [00:16, 45.47it/s]"
     ]
    },
    {
     "name": "stdout",
     "output_type": "stream",
     "text": [
      "Length of graph***********: 10\n",
      "Length of graph***********: 10\n",
      "Length of graph***********: 10\n",
      "Length of graph***********: 10\n",
      "Length of graph***********: 10\n",
      "Length of graph***********: 10\n",
      "Length of graph***********: 10\n",
      "Length of graph***********: 10\n",
      "Length of graph***********: 10\n",
      "Length of graph***********: 10\n"
     ]
    },
    {
     "name": "stderr",
     "output_type": "stream",
     "text": [
      "\r",
      "729it [00:16, 48.26it/s]"
     ]
    },
    {
     "name": "stdout",
     "output_type": "stream",
     "text": [
      "Length of graph***********: 10\n"
     ]
    },
    {
     "name": "stderr",
     "output_type": "stream",
     "text": [
      "\r",
      "734it [00:16, 45.86it/s]"
     ]
    },
    {
     "name": "stdout",
     "output_type": "stream",
     "text": [
      "Length of graph***********: 10\n",
      "Length of graph***********: 10\n",
      "Length of graph***********: 10\n",
      "Length of graph***********: 10\n",
      "Length of graph***********: 10\n",
      "Length of graph***********: 10\n",
      "Length of graph***********: 10\n",
      "Length of graph***********: 10\n",
      "Length of graph***********: "
     ]
    },
    {
     "name": "stderr",
     "output_type": "stream",
     "text": [
      "\r",
      "739it [00:16, 47.01it/s]"
     ]
    },
    {
     "name": "stdout",
     "output_type": "stream",
     "text": [
      "10\n",
      "Length of graph***********: 10\n"
     ]
    },
    {
     "name": "stderr",
     "output_type": "stream",
     "text": [
      "\r",
      "744it [00:16, 46.48it/s]"
     ]
    },
    {
     "name": "stdout",
     "output_type": "stream",
     "text": [
      "Length of graph***********: 10\n",
      "Length of graph***********: 10\n",
      "Length of graph***********: 10\n",
      "Length of graph***********: 10\n",
      "Length of graph***********: 10\n",
      "Length of graph***********: 10\n",
      "Length of graph***********: 10\n",
      "Length of graph***********: 10\n"
     ]
    },
    {
     "name": "stderr",
     "output_type": "stream",
     "text": [
      "\r",
      "749it [00:16, 46.89it/s]"
     ]
    },
    {
     "name": "stdout",
     "output_type": "stream",
     "text": [
      "Length of graph***********: 10\n",
      "Length of graph***********: 10\n"
     ]
    },
    {
     "name": "stderr",
     "output_type": "stream",
     "text": [
      "\r",
      "754it [00:17, 46.74it/s]"
     ]
    },
    {
     "name": "stdout",
     "output_type": "stream",
     "text": [
      "Length of graph***********: 10\n",
      "Length of graph***********: 10\n",
      "Length of graph***********: 10\n",
      "Length of graph***********: 10\n",
      "Length of graph***********: 10\n",
      "Length of graph***********: 10\n",
      "Length of graph***********: 10\n",
      "Length of graph***********: 10\n"
     ]
    },
    {
     "name": "stderr",
     "output_type": "stream",
     "text": [
      "\r",
      "759it [00:17, 47.22it/s]"
     ]
    },
    {
     "name": "stdout",
     "output_type": "stream",
     "text": [
      "Length of graph***********: 10\n",
      "Length of graph***********: 10\n"
     ]
    },
    {
     "name": "stderr",
     "output_type": "stream",
     "text": [
      "\r",
      "764it [00:17, 47.86it/s]"
     ]
    },
    {
     "name": "stdout",
     "output_type": "stream",
     "text": [
      "Length of graph***********: 10\n",
      "Length of graph***********: 10\n",
      "Length of graph***********: 10\n",
      "Length of graph***********: 10\n",
      "Length of graph***********: 10\n",
      "Length of graph***********: 10\n",
      "Length of graph***********: 10\n",
      "Length of graph***********: 10\n"
     ]
    },
    {
     "name": "stderr",
     "output_type": "stream",
     "text": [
      "\r",
      "769it [00:17, 46.53it/s]"
     ]
    },
    {
     "name": "stdout",
     "output_type": "stream",
     "text": [
      "Length of graph***********: 10\n",
      "Length of graph***********: 10\n"
     ]
    },
    {
     "name": "stderr",
     "output_type": "stream",
     "text": [
      "\r",
      "774it [00:17, 46.95it/s]"
     ]
    },
    {
     "name": "stdout",
     "output_type": "stream",
     "text": [
      "Length of graph***********: 10\n",
      "Length of graph***********: 10\n",
      "Length of graph***********: 10\n",
      "Length of graph***********: 10\n",
      "Length of graph***********: 10\n",
      "Length of graph***********: 10\n",
      "Length of graph***********: 10\n",
      "Length of graph***********: 10\n"
     ]
    },
    {
     "name": "stderr",
     "output_type": "stream",
     "text": [
      "\r",
      "779it [00:17, 46.66it/s]"
     ]
    },
    {
     "name": "stdout",
     "output_type": "stream",
     "text": [
      "Length of graph***********: 10\n",
      "Length of graph***********: 10\n"
     ]
    },
    {
     "name": "stderr",
     "output_type": "stream",
     "text": [
      "\r",
      "784it [00:17, 46.54it/s]"
     ]
    },
    {
     "name": "stdout",
     "output_type": "stream",
     "text": [
      "Length of graph***********: 10\n",
      "Length of graph***********: 10\n",
      "Length of graph***********: 10\n",
      "Length of graph***********: 10\n",
      "Length of graph***********: 10\n",
      "Length of graph***********: 10\n",
      "Length of graph***********: 10\n",
      "Length of graph***********: 10\n"
     ]
    },
    {
     "name": "stderr",
     "output_type": "stream",
     "text": [
      "\r",
      "789it [00:17, 46.68it/s]"
     ]
    },
    {
     "name": "stdout",
     "output_type": "stream",
     "text": [
      "Length of graph***********: 10\n",
      "Length of graph***********: 10\n"
     ]
    },
    {
     "name": "stderr",
     "output_type": "stream",
     "text": [
      "\r",
      "795it [00:17, 49.06it/s]"
     ]
    },
    {
     "name": "stdout",
     "output_type": "stream",
     "text": [
      "Length of graph***********: 10\n",
      "Length of graph***********: 10\n",
      "Length of graph***********: 10\n",
      "Length of graph***********: 10\n",
      "Length of graph***********: 10\n",
      "Length of graph***********: 10\n",
      "Length of graph***********: 10\n",
      "Length of graph***********: 10\n",
      "Length of graph***********: 10\n",
      "Length of graph***********: 10\n"
     ]
    },
    {
     "name": "stderr",
     "output_type": "stream",
     "text": [
      "\r",
      "801it [00:18, 51.10it/s]"
     ]
    },
    {
     "name": "stdout",
     "output_type": "stream",
     "text": [
      "Length of graph***********: 10\n",
      "Length of graph***********: 10\n"
     ]
    },
    {
     "name": "stderr",
     "output_type": "stream",
     "text": [
      "\r",
      "807it [00:18, 50.39it/s]"
     ]
    },
    {
     "name": "stdout",
     "output_type": "stream",
     "text": [
      "Length of graph***********: 10\n",
      "Length of graph***********: 10\n",
      "Length of graph***********: 10\n",
      "Length of graph***********: 10\n",
      "Length of graph***********: 10\n",
      "Length of graph***********: 10\n",
      "Length of graph***********: 10\n",
      "Length of graph***********: 10\n",
      "Length of graph***********: 10\n",
      "Length of graph***********: 10\n"
     ]
    },
    {
     "name": "stderr",
     "output_type": "stream",
     "text": [
      "819it [00:18, 50.33it/s]"
     ]
    },
    {
     "name": "stdout",
     "output_type": "stream",
     "text": [
      "Length of graph***********: 10\n",
      "Length of graph***********: 10\n",
      "Length of graph***********: 10\n",
      "Length of graph***********: 10\n",
      "Length of graph***********: 10\n",
      "Length of graph***********: 10\n",
      "Length of graph***********: 10\n",
      "Length of graph***********: 10\n",
      "Length of graph***********: 10\n",
      "Length of graph***********: 10\n"
     ]
    },
    {
     "name": "stderr",
     "output_type": "stream",
     "text": [
      "\r",
      "825it [00:18, 49.08it/s]"
     ]
    },
    {
     "name": "stdout",
     "output_type": "stream",
     "text": [
      "Length of graph***********: 10\n",
      "Length of graph***********: 10\n",
      "Length of graph***********: 10\n",
      "Length of graph***********: 10\n",
      "Length of graph***********: 10\n",
      "Length of graph***********: 10\n",
      "Length of graph***********: 10\n",
      "Length of graph***********: 10\n"
     ]
    },
    {
     "name": "stderr",
     "output_type": "stream",
     "text": [
      "\r",
      "831it [00:18, 49.69it/s]"
     ]
    },
    {
     "name": "stdout",
     "output_type": "stream",
     "text": [
      "Length of graph***********: 10\n",
      "Length of graph***********: 10\n",
      "Length of graph***********: 10\n"
     ]
    },
    {
     "name": "stderr",
     "output_type": "stream",
     "text": [
      "\r",
      "836it [00:18, 49.10it/s]"
     ]
    },
    {
     "name": "stdout",
     "output_type": "stream",
     "text": [
      "Length of graph***********: 10\n",
      "Length of graph***********: 10\n",
      "Length of graph***********: 10\n",
      "Length of graph***********: 10\n",
      "Length of graph***********: 10\n",
      "Length of graph***********: 10\n",
      "Length of graph***********: 10\n"
     ]
    },
    {
     "name": "stderr",
     "output_type": "stream",
     "text": [
      "\r",
      "841it [00:18, 49.35it/s]"
     ]
    },
    {
     "name": "stdout",
     "output_type": "stream",
     "text": [
      "Length of graph***********: 10\n",
      "Length of graph***********: 10\n",
      "Length of graph***********: 10\n",
      "Length of graph***********: 10\n"
     ]
    },
    {
     "name": "stderr",
     "output_type": "stream",
     "text": [
      "\r",
      "847it [00:18, 51.43it/s]"
     ]
    },
    {
     "name": "stdout",
     "output_type": "stream",
     "text": [
      "Length of graph***********: 10\n",
      "Length of graph***********: 10\n",
      "Length of graph***********: 10\n",
      "Length of graph***********: 10\n",
      "Length of graph***********: 10\n",
      "Length of graph***********: 10\n",
      "Length of graph***********: 10\n",
      "Length of graph***********: 10\n"
     ]
    },
    {
     "name": "stderr",
     "output_type": "stream",
     "text": [
      "\r",
      "853it [00:19, 51.08it/s]"
     ]
    },
    {
     "name": "stdout",
     "output_type": "stream",
     "text": [
      "Length of graph***********: 10\n",
      "Length of graph***********: 10\n",
      "Length of graph***********: 10\n"
     ]
    },
    {
     "name": "stderr",
     "output_type": "stream",
     "text": [
      "\r",
      "859it [00:19, 48.52it/s]"
     ]
    },
    {
     "name": "stdout",
     "output_type": "stream",
     "text": [
      "Length of graph***********: 10\n",
      "Length of graph***********: 10\n",
      "Length of graph***********: 10\n",
      "Length of graph***********: 10\n",
      "Length of graph***********: 10\n",
      "Length of graph***********: 10\n",
      "Length of graph***********: 10\n",
      "Length of graph***********: 10\n",
      "Length of graph***********: 10\n"
     ]
    },
    {
     "name": "stderr",
     "output_type": "stream",
     "text": [
      "869it [00:19, 46.66it/s]"
     ]
    },
    {
     "name": "stdout",
     "output_type": "stream",
     "text": [
      "Length of graph***********: 10\n",
      "Length of graph***********: 10\n",
      "Length of graph***********: 10\n",
      "Length of graph***********: 10\n",
      "Length of graph***********: 10\n",
      "Length of graph***********: 10\n",
      "Length of graph***********: 10\n",
      "Length of graph***********: 10\n",
      "Length of graph***********: 10\n",
      "Length of graph***********: 10\n"
     ]
    },
    {
     "name": "stderr",
     "output_type": "stream",
     "text": [
      "879it [00:19, 46.85it/s]"
     ]
    },
    {
     "name": "stdout",
     "output_type": "stream",
     "text": [
      "Length of graph***********: 10\n",
      "Length of graph***********: 10\n",
      "Length of graph***********: 10\n",
      "Length of graph***********: 10\n",
      "Length of graph***********: 10\n",
      "Length of graph***********: 10\n",
      "Length of graph***********: 10\n",
      "Length of graph***********: 10\n",
      "Length of graph***********: 10\n",
      "Length of graph***********: 10\n"
     ]
    },
    {
     "name": "stderr",
     "output_type": "stream",
     "text": [
      "889it [00:19, 46.60it/s]"
     ]
    },
    {
     "name": "stdout",
     "output_type": "stream",
     "text": [
      "Length of graph***********: 10\n",
      "Length of graph***********: 10\n",
      "Length of graph***********: 10\n",
      "Length of graph***********: 10\n",
      "Length of graph***********: 10\n",
      "Length of graph***********: 10\n",
      "Length of graph***********: 10\n",
      "Length of graph***********: 10\n",
      "Length of graph***********: 10\n",
      "Length of graph***********: 10\n"
     ]
    },
    {
     "name": "stderr",
     "output_type": "stream",
     "text": [
      "900it [00:20, 48.57it/s]"
     ]
    },
    {
     "name": "stdout",
     "output_type": "stream",
     "text": [
      "Length of graph***********: 10\n",
      "Length of graph***********: 10\n",
      "Length of graph***********: 10\n",
      "Length of graph***********: 10\n",
      "Length of graph***********: 10\n",
      "Length of graph***********: 10\n",
      "Length of graph***********: 10\n",
      "Length of graph***********: 10\n",
      "Length of graph***********: 10\n",
      "Length of graph***********: 10\n",
      "Length of graph***********: 10\n"
     ]
    },
    {
     "name": "stderr",
     "output_type": "stream",
     "text": [
      "912it [00:20, 50.29it/s]"
     ]
    },
    {
     "name": "stdout",
     "output_type": "stream",
     "text": [
      "Length of graph***********: 10\n",
      "Length of graph***********: 10\n",
      "Length of graph***********: 10\n",
      "Length of graph***********: 10\n",
      "Length of graph***********: 10\n",
      "Length of graph***********: 10\n",
      "Length of graph***********: 10\n",
      "Length of graph***********: 10\n",
      "Length of graph***********: 10\n",
      "Length of graph***********: 10\n",
      "Length of graph***********: 10\n"
     ]
    },
    {
     "name": "stderr",
     "output_type": "stream",
     "text": [
      "\r",
      "918it [00:20, 49.09it/s]"
     ]
    },
    {
     "name": "stdout",
     "output_type": "stream",
     "text": [
      "Length of graph***********: 10\n",
      "Length of graph***********: 10\n",
      "Length of graph***********: 10\n",
      "Length of graph***********: 10\n",
      "Length of graph***********: 10\n",
      "Length of graph***********: 10\n",
      "Length of graph***********: 10\n",
      "Length of graph***********: 10\n"
     ]
    },
    {
     "name": "stderr",
     "output_type": "stream",
     "text": [
      "\r",
      "924it [00:20, 49.90it/s]"
     ]
    },
    {
     "name": "stdout",
     "output_type": "stream",
     "text": [
      "Length of graph***********: 10\n",
      "Length of graph***********: 10\n",
      "Length of graph***********: 10\n"
     ]
    },
    {
     "name": "stderr",
     "output_type": "stream",
     "text": [
      "\r",
      "930it [00:20, 51.34it/s]"
     ]
    },
    {
     "name": "stdout",
     "output_type": "stream",
     "text": [
      "Length of graph***********: 10\n",
      "Length of graph***********: 10\n",
      "Length of graph***********: 10\n",
      "Length of graph***********: 10\n",
      "Length of graph***********: 10\n",
      "Length of graph***********: 10\n",
      "Length of graph***********: 10\n",
      "Length of graph***********: 10\n"
     ]
    },
    {
     "name": "stderr",
     "output_type": "stream",
     "text": [
      "\r",
      "936it [00:20, 49.49it/s]"
     ]
    },
    {
     "name": "stdout",
     "output_type": "stream",
     "text": [
      "Length of graph***********: 10\n",
      "Length of graph***********: 10\n"
     ]
    },
    {
     "name": "stderr",
     "output_type": "stream",
     "text": [
      "938it [00:20, 44.95it/s]\n",
      "4it [00:00, 38.25it/s]"
     ]
    },
    {
     "name": "stdout",
     "output_type": "stream",
     "text": [
      "Length of graph***********: 10\n",
      "Epoch 1, Loss: 12.276232663645054, Accuracy: 0.7105043976545842\n",
      "Length of graph***********: 10\n",
      "Length of graph***********: 10\n",
      "Length of graph***********: 10\n",
      "Length of graph***********: 10\n",
      "Length of graph***********: 10\n",
      "Length of graph***********: 10\n",
      "Length of graph***********: 10\n"
     ]
    },
    {
     "name": "stderr",
     "output_type": "stream",
     "text": [
      "14it [00:00, 41.69it/s]"
     ]
    },
    {
     "name": "stdout",
     "output_type": "stream",
     "text": [
      "Length of graph***********: 10\n",
      "Length of graph***********: 10\n",
      "Length of graph***********: 10\n",
      "Length of graph***********: 10\n",
      "Length of graph***********: 10\n",
      "Length of graph***********: 10\n",
      "Length of graph***********: 10\n",
      "Length of graph***********: 10\n",
      "Length of graph***********: 10\n",
      "Length of graph***********: 10\n",
      "Length of graph***********: 10\n"
     ]
    },
    {
     "name": "stderr",
     "output_type": "stream",
     "text": [
      "\r",
      "20it [00:00, 44.68it/s]"
     ]
    },
    {
     "name": "stdout",
     "output_type": "stream",
     "text": [
      "Length of graph***********: 10\n",
      "Length of graph***********: 10\n",
      "Length of graph***********: 10\n",
      "Length of graph***********: 10\n",
      "Length of graph***********: 10\n",
      "Length of graph***********: 10\n",
      "Length of graph***********: 10\n"
     ]
    },
    {
     "name": "stderr",
     "output_type": "stream",
     "text": [
      "\r",
      "25it [00:00, 45.08it/s]"
     ]
    },
    {
     "name": "stdout",
     "output_type": "stream",
     "text": [
      "Length of graph***********: 10\n",
      "Length of graph***********: 10\n",
      "Length of graph***********: 10\n"
     ]
    },
    {
     "name": "stderr",
     "output_type": "stream",
     "text": [
      "36it [00:00, 47.85it/s]"
     ]
    },
    {
     "name": "stdout",
     "output_type": "stream",
     "text": [
      "Length of graph***********: 10\n",
      "Length of graph***********: 10\n",
      "Length of graph***********: 10\n",
      "Length of graph***********: 10\n",
      "Length of graph***********: 10\n",
      "Length of graph***********: 10\n",
      "Length of graph***********: 10\n",
      "Length of graph***********: 10\n",
      "Length of graph***********: 10\n",
      "Length of graph***********: 10\n",
      "Length of graph***********: 10\n"
     ]
    },
    {
     "name": "stderr",
     "output_type": "stream",
     "text": [
      "46it [00:00, 45.86it/s]"
     ]
    },
    {
     "name": "stdout",
     "output_type": "stream",
     "text": [
      "Length of graph***********: 10\n",
      "Length of graph***********: 10\n",
      "Length of graph***********: 10\n",
      "Length of graph***********: 10\n",
      "Length of graph***********: 10\n",
      "Length of graph***********: 10\n",
      "Length of graph***********: 10\n",
      "Length of graph***********: 10\n"
     ]
    },
    {
     "name": "stderr",
     "output_type": "stream",
     "text": [
      "\r",
      "51it [00:01, 43.54it/s]"
     ]
    },
    {
     "name": "stdout",
     "output_type": "stream",
     "text": [
      "Length of graph***********: 10\n",
      "Length of graph***********: 10\n",
      "Length of graph***********: 10\n",
      "Length of graph***********: 10\n",
      "Length of graph***********: 10\n",
      "Length of graph***********: 10\n",
      "Length of graph***********: 10\n",
      "Length of graph***********: 10\n",
      "Length of graph***********: 10\n"
     ]
    },
    {
     "name": "stderr",
     "output_type": "stream",
     "text": [
      "\r",
      "57it [00:01, 45.59it/s]"
     ]
    },
    {
     "name": "stdout",
     "output_type": "stream",
     "text": [
      "Length of graph***********: 10\n"
     ]
    },
    {
     "name": "stderr",
     "output_type": "stream",
     "text": [
      "\r",
      "62it [00:01, 43.77it/s]"
     ]
    },
    {
     "name": "stdout",
     "output_type": "stream",
     "text": [
      "Length of graph***********: 10\n",
      "Length of graph***********: 10\n",
      "Length of graph***********: 10\n",
      "Length of graph***********: 10\n",
      "Length of graph***********: 10\n",
      "Length of graph***********: 10\n",
      "Length of graph***********: 10\n",
      "Length of graph***********: 10\n",
      "Length of graph***********: 10\n",
      "Length of graph***********: 10\n"
     ]
    },
    {
     "name": "stderr",
     "output_type": "stream",
     "text": [
      "72it [00:01, 44.56it/s]"
     ]
    },
    {
     "name": "stdout",
     "output_type": "stream",
     "text": [
      "Length of graph***********: 10\n",
      "Length of graph***********: 10\n",
      "Length of graph***********: 10\n",
      "Length of graph***********: 10\n",
      "Length of graph***********: 10\n",
      "Length of graph***********: 10\n",
      "Length of graph***********: 10\n",
      "Length of graph***********: 10\n",
      "Length of graph***********: 10\n",
      "Length of graph***********: 10\n"
     ]
    },
    {
     "name": "stderr",
     "output_type": "stream",
     "text": [
      "82it [00:01, 44.01it/s]"
     ]
    },
    {
     "name": "stdout",
     "output_type": "stream",
     "text": [
      "Length of graph***********: 10\n",
      "Length of graph***********: 10\n",
      "Length of graph***********: 10\n",
      "Length of graph***********: 10\n",
      "Length of graph***********: 10\n",
      "Length of graph***********: 10\n"
     ]
    },
    {
     "name": "stderr",
     "output_type": "stream",
     "text": [
      "\r",
      "87it [00:01, 45.01it/s]"
     ]
    },
    {
     "name": "stdout",
     "output_type": "stream",
     "text": [
      "Length of graph***********: 10\n",
      "Length of graph***********: 10\n",
      "Length of graph***********: 10\n",
      "Length of graph***********: 10\n"
     ]
    },
    {
     "name": "stderr",
     "output_type": "stream",
     "text": [
      "\r",
      "92it [00:02, 43.03it/s]"
     ]
    },
    {
     "name": "stdout",
     "output_type": "stream",
     "text": [
      "Length of graph***********: 10\n",
      "Length of graph***********: 10\n",
      "Length of graph***********: 10\n",
      "Length of graph***********: 10\n",
      "Length of graph***********: 10\n",
      "Length of graph***********: 10\n",
      "Length of graph***********: 10\n",
      "Length of graph***********: 10\n",
      "Length of graph***********: 10\n",
      "Length of graph***********: 10\n"
     ]
    },
    {
     "name": "stderr",
     "output_type": "stream",
     "text": [
      "\r",
      "98it [00:02, 44.68it/s]"
     ]
    },
    {
     "name": "stdout",
     "output_type": "stream",
     "text": [
      "Length of graph***********: 10\n",
      "Length of graph***********: 10\n",
      "Length of graph***********: 10\n",
      "Length of graph***********: 10\n",
      "Length of graph***********: 10\n",
      "Length of graph***********: 10\n"
     ]
    },
    {
     "name": "stderr",
     "output_type": "stream",
     "text": [
      "\r",
      "104it [00:02, 46.90it/s]"
     ]
    },
    {
     "name": "stdout",
     "output_type": "stream",
     "text": [
      "Length of graph***********: 10\n",
      "Length of graph***********: 10\n",
      "Length of graph***********: 10\n",
      "Length of graph***********: 10\n",
      "Length of graph***********: 10\n"
     ]
    },
    {
     "name": "stderr",
     "output_type": "stream",
     "text": [
      "\r",
      "109it [00:02, 46.24it/s]"
     ]
    },
    {
     "name": "stdout",
     "output_type": "stream",
     "text": [
      "Length of graph***********: 10\n",
      "Length of graph***********: 10\n",
      "Length of graph***********: 10\n",
      "Length of graph***********: 10\n"
     ]
    },
    {
     "name": "stderr",
     "output_type": "stream",
     "text": [
      "\r",
      "114it [00:02, 43.68it/s]"
     ]
    },
    {
     "name": "stdout",
     "output_type": "stream",
     "text": [
      "Length of graph***********: 10\n",
      "Length of graph***********: 10\n",
      "Length of graph***********: 10\n",
      "Length of graph***********: 10\n",
      "Length of graph***********: 10\n"
     ]
    },
    {
     "name": "stderr",
     "output_type": "stream",
     "text": [
      "\r",
      "119it [00:02, 43.80it/s]"
     ]
    },
    {
     "name": "stdout",
     "output_type": "stream",
     "text": [
      "Length of graph***********: 10\n",
      "Length of graph***********: 10\n",
      "Length of graph***********: 10\n",
      "Length of graph***********: 10\n"
     ]
    },
    {
     "name": "stderr",
     "output_type": "stream",
     "text": [
      "\r",
      "124it [00:02, 43.98it/s]"
     ]
    },
    {
     "name": "stdout",
     "output_type": "stream",
     "text": [
      "Length of graph***********: 10\n",
      "Length of graph***********: 10\n",
      "Length of graph***********: 10\n",
      "Length of graph***********: 10\n",
      "Length of graph***********: 10\n"
     ]
    },
    {
     "name": "stderr",
     "output_type": "stream",
     "text": [
      "\r",
      "129it [00:02, 43.50it/s]"
     ]
    },
    {
     "name": "stdout",
     "output_type": "stream",
     "text": [
      "Length of graph***********: 10\n",
      "Length of graph***********: 10\n",
      "Length of graph***********: 10\n",
      "Length of graph***********: 10\n"
     ]
    },
    {
     "name": "stderr",
     "output_type": "stream",
     "text": [
      "\r",
      "134it [00:02, 41.58it/s]"
     ]
    },
    {
     "name": "stdout",
     "output_type": "stream",
     "text": [
      "Length of graph***********: 10\n",
      "Length of graph***********: 10\n",
      "Length of graph***********: 10\n",
      "Length of graph***********: 10\n",
      "Length of graph***********: 10\n"
     ]
    },
    {
     "name": "stderr",
     "output_type": "stream",
     "text": [
      "\r",
      "139it [00:03, 41.92it/s]"
     ]
    },
    {
     "name": "stdout",
     "output_type": "stream",
     "text": [
      "Length of graph***********: 10\n",
      "Length of graph***********: 10\n",
      "Length of graph***********: 10\n",
      "Length of graph***********: 10\n"
     ]
    },
    {
     "name": "stderr",
     "output_type": "stream",
     "text": [
      "\r",
      "144it [00:03, 41.85it/s]"
     ]
    },
    {
     "name": "stdout",
     "output_type": "stream",
     "text": [
      "Length of graph***********: 10\n",
      "Length of graph***********: 10\n",
      "Length of graph***********: 10\n",
      "Length of graph***********: 10\n",
      "Length of graph***********: 10\n",
      "Length of graph***********: 10\n",
      "Length of graph***********: 10\n",
      "Length of graph***********: 10\n",
      "Length of graph***********: 10\n"
     ]
    },
    {
     "name": "stderr",
     "output_type": "stream",
     "text": [
      "\r",
      "149it [00:03, 40.50it/s]"
     ]
    },
    {
     "name": "stdout",
     "output_type": "stream",
     "text": [
      "Length of graph***********: 10\n",
      "Length of graph***********: 10\n",
      "Length of graph***********: 10\n",
      "Length of graph***********: 10\n",
      "Length of graph***********: 10\n"
     ]
    },
    {
     "name": "stderr",
     "output_type": "stream",
     "text": [
      "\r",
      "154it [00:03, 40.58it/s]"
     ]
    },
    {
     "name": "stdout",
     "output_type": "stream",
     "text": [
      "Length of graph***********: 10\n",
      "Length of graph***********: 10\n",
      "Length of graph***********: 10\n"
     ]
    },
    {
     "name": "stderr",
     "output_type": "stream",
     "text": [
      "\r",
      "159it [00:03, 40.49it/s]"
     ]
    },
    {
     "name": "stdout",
     "output_type": "stream",
     "text": [
      "Length of graph***********: 10\n",
      "Length of graph***********: 10\n",
      "Length of graph***********: 10\n",
      "Length of graph***********: 10\n",
      "Length of graph***********: 10\n",
      "Length of graph***********: 10\n"
     ]
    },
    {
     "name": "stderr",
     "output_type": "stream",
     "text": [
      "\r",
      "164it [00:03, 40.35it/s]"
     ]
    },
    {
     "name": "stdout",
     "output_type": "stream",
     "text": [
      "Length of graph***********: 10\n",
      "Length of graph***********: 10\n",
      "Length of graph***********: "
     ]
    },
    {
     "name": "stderr",
     "output_type": "stream",
     "text": [
      "\r",
      "169it [00:03, 39.34it/s]"
     ]
    },
    {
     "name": "stdout",
     "output_type": "stream",
     "text": [
      "10\n",
      "Length of graph***********: 10\n",
      "Length of graph***********: 10\n",
      "Length of graph***********: 10\n",
      "Length of graph***********: 10\n",
      "Length of graph***********: 10\n",
      "Length of graph***********: 10\n",
      "Length of graph***********: 10\n",
      "Length of graph***********: 10\n"
     ]
    },
    {
     "name": "stderr",
     "output_type": "stream",
     "text": [
      "\r",
      "174it [00:03, 39.61it/s]"
     ]
    },
    {
     "name": "stdout",
     "output_type": "stream",
     "text": [
      "Length of graph***********: 10\n",
      "Length of graph***********: 10\n",
      "Length of graph***********: 10\n",
      "Length of graph***********: 10\n",
      "Length of graph***********: 10\n",
      "Length of graph***********: 10\n"
     ]
    },
    {
     "name": "stderr",
     "output_type": "stream",
     "text": [
      "\r",
      "179it [00:04, 39.80it/s]"
     ]
    },
    {
     "name": "stdout",
     "output_type": "stream",
     "text": [
      "Length of graph***********: 10\n",
      "Length of graph***********: 10\n"
     ]
    },
    {
     "name": "stderr",
     "output_type": "stream",
     "text": [
      "188it [00:04, 40.81it/s]"
     ]
    },
    {
     "name": "stdout",
     "output_type": "stream",
     "text": [
      "Length of graph***********: 10\n",
      "Length of graph***********: 10\n",
      "Length of graph***********: 10\n",
      "Length of graph***********: 10\n",
      "Length of graph***********: 10\n",
      "Length of graph***********: 10\n",
      "Length of graph***********: 10\n",
      "Length of graph***********: 10\n",
      "Length of graph***********: 10\n",
      "Length of graph***********: 10\n"
     ]
    },
    {
     "name": "stderr",
     "output_type": "stream",
     "text": [
      "199it [00:04, 46.30it/s]"
     ]
    },
    {
     "name": "stdout",
     "output_type": "stream",
     "text": [
      "Length of graph***********: 10\n",
      "Length of graph***********: 10\n",
      "Length of graph***********: 10\n",
      "Length of graph***********: 10\n",
      "Length of graph***********: 10\n",
      "Length of graph***********: 10\n",
      "Length of graph***********: 10\n",
      "Length of graph***********: 10\n",
      "Length of graph***********: 10\n",
      "Length of graph***********: 10\n",
      "Length of graph***********: 10\n"
     ]
    },
    {
     "name": "stderr",
     "output_type": "stream",
     "text": [
      "\r",
      "204it [00:04, 45.07it/s]"
     ]
    },
    {
     "name": "stdout",
     "output_type": "stream",
     "text": [
      "Length of graph***********: 10\n",
      "Length of graph***********: 10\n",
      "Length of graph***********: 10\n",
      "Length of graph***********: 10\n",
      "Length of graph***********: 10\n",
      "Length of graph***********: 10\n",
      "Length of graph***********: 10\n",
      "Length of graph***********: 10\n"
     ]
    },
    {
     "name": "stderr",
     "output_type": "stream",
     "text": [
      "\r",
      "210it [00:04, 47.92it/s]"
     ]
    },
    {
     "name": "stdout",
     "output_type": "stream",
     "text": [
      "Length of graph***********: 10\n",
      "Length of graph***********: 10\n",
      "Length of graph***********: 10\n"
     ]
    },
    {
     "name": "stderr",
     "output_type": "stream",
     "text": [
      "220it [00:04, 47.38it/s]"
     ]
    },
    {
     "name": "stdout",
     "output_type": "stream",
     "text": [
      "Length of graph***********: 10\n",
      "Length of graph***********: 10\n",
      "Length of graph***********: 10\n",
      "Length of graph***********: 10\n",
      "Length of graph***********: 10\n",
      "Length of graph***********: 10\n",
      "Length of graph***********: 10\n",
      "Length of graph***********: 10\n",
      "Length of graph***********: 10\n",
      "Length of graph***********: 10\n"
     ]
    },
    {
     "name": "stderr",
     "output_type": "stream",
     "text": [
      "\r",
      "225it [00:05, 45.71it/s]"
     ]
    },
    {
     "name": "stdout",
     "output_type": "stream",
     "text": [
      "Length of graph***********: 10\n",
      "Length of graph***********: 10\n",
      "Length of graph***********: 10\n",
      "Length of graph***********: 10\n",
      "Length of graph***********: 10\n",
      "Length of graph***********: 10\n",
      "Length of graph***********: 10\n",
      "Length of graph***********: 10\n"
     ]
    },
    {
     "name": "stderr",
     "output_type": "stream",
     "text": [
      "\r",
      "231it [00:05, 47.52it/s]"
     ]
    },
    {
     "name": "stdout",
     "output_type": "stream",
     "text": [
      "Length of graph***********: 10\n",
      "Length of graph***********: 10\n",
      "Length of graph***********: 10\n"
     ]
    },
    {
     "name": "stderr",
     "output_type": "stream",
     "text": [
      "241it [00:05, 47.99it/s]"
     ]
    },
    {
     "name": "stdout",
     "output_type": "stream",
     "text": [
      "Length of graph***********: 10\n",
      "Length of graph***********: 10\n",
      "Length of graph***********: 10\n",
      "Length of graph***********: 10\n",
      "Length of graph***********: 10\n",
      "Length of graph***********: 10\n",
      "Length of graph***********: 10\n",
      "Length of graph***********: 10\n",
      "Length of graph***********: 10\n",
      "Length of graph***********: 10\n"
     ]
    },
    {
     "name": "stderr",
     "output_type": "stream",
     "text": [
      "251it [00:05, 46.92it/s]"
     ]
    },
    {
     "name": "stdout",
     "output_type": "stream",
     "text": [
      "Length of graph***********: 10\n",
      "Length of graph***********: 10\n",
      "Length of graph***********: 10\n",
      "Length of graph***********: 10\n",
      "Length of graph***********: 10\n",
      "Length of graph***********: 10\n",
      "Length of graph***********: 10\n",
      "Length of graph***********: 10\n",
      "Length of graph***********: 10\n",
      "Length of graph***********: 10\n",
      "Length of graph***********: 10\n"
     ]
    },
    {
     "name": "stderr",
     "output_type": "stream",
     "text": [
      "262it [00:05, 48.30it/s]"
     ]
    },
    {
     "name": "stdout",
     "output_type": "stream",
     "text": [
      "Length of graph***********: 10\n",
      "Length of graph***********: 10\n",
      "Length of graph***********: 10\n",
      "Length of graph***********: 10\n",
      "Length of graph***********: 10\n",
      "Length of graph***********: 10\n",
      "Length of graph***********: 10\n",
      "Length of graph***********: 10\n",
      "Length of graph***********: 10\n",
      "Length of graph***********: 10\n"
     ]
    },
    {
     "name": "stderr",
     "output_type": "stream",
     "text": [
      "272it [00:06, 48.37it/s]"
     ]
    },
    {
     "name": "stdout",
     "output_type": "stream",
     "text": [
      "Length of graph***********: 10\n",
      "Length of graph***********: 10\n",
      "Length of graph***********: 10\n",
      "Length of graph***********: 10\n",
      "Length of graph***********: 10\n",
      "Length of graph***********: 10\n",
      "Length of graph***********: 10\n"
     ]
    },
    {
     "name": "stderr",
     "output_type": "stream",
     "text": [
      "\r",
      "273it [00:06, 44.67it/s]"
     ]
    },
    {
     "name": "stdout",
     "output_type": "stream",
     "text": [
      "Length of graph***********: 10\n"
     ]
    },
    {
     "name": "stderr",
     "output_type": "stream",
     "text": [
      "\n"
     ]
    },
    {
     "ename": "KeyboardInterrupt",
     "evalue": "",
     "output_type": "error",
     "traceback": [
      "\u001b[0;31m---------------------------------------------------------------------------\u001b[0m",
      "\u001b[0;31mKeyboardInterrupt\u001b[0m                         Traceback (most recent call last)",
      "\u001b[0;32m<ipython-input-130-2582d771ebf9>\u001b[0m in \u001b[0;36m<module>\u001b[0;34m\u001b[0m\n\u001b[1;32m      6\u001b[0m     \u001b[0mtotal_loss\u001b[0m \u001b[0;34m=\u001b[0m \u001b[0;36m0\u001b[0m\u001b[0;34m\u001b[0m\u001b[0;34m\u001b[0m\u001b[0m\n\u001b[1;32m      7\u001b[0m     \u001b[0mtotal_accuracy\u001b[0m \u001b[0;34m=\u001b[0m \u001b[0;36m0\u001b[0m\u001b[0;34m\u001b[0m\u001b[0;34m\u001b[0m\u001b[0m\n\u001b[0;32m----> 8\u001b[0;31m     \u001b[0;32mfor\u001b[0m \u001b[0mi\u001b[0m\u001b[0;34m,\u001b[0m \u001b[0mdata\u001b[0m \u001b[0;32min\u001b[0m \u001b[0mtqdm\u001b[0m\u001b[0;34m(\u001b[0m\u001b[0menumerate\u001b[0m\u001b[0;34m(\u001b[0m\u001b[0mtrain_loader\u001b[0m\u001b[0;34m)\u001b[0m\u001b[0;34m)\u001b[0m\u001b[0;34m:\u001b[0m\u001b[0;34m\u001b[0m\u001b[0;34m\u001b[0m\u001b[0m\n\u001b[0m\u001b[1;32m      9\u001b[0m         \u001b[0mimages\u001b[0m\u001b[0;34m,\u001b[0m \u001b[0mlabels\u001b[0m \u001b[0;34m=\u001b[0m \u001b[0mdata\u001b[0m\u001b[0;34m\u001b[0m\u001b[0;34m\u001b[0m\u001b[0m\n\u001b[1;32m     10\u001b[0m         \u001b[0mimages\u001b[0m \u001b[0;34m=\u001b[0m \u001b[0mimages\u001b[0m\u001b[0;34m.\u001b[0m\u001b[0mnumpy\u001b[0m\u001b[0;34m(\u001b[0m\u001b[0;34m)\u001b[0m \u001b[0;31m#(64, 1, 28, 28)\u001b[0m\u001b[0;34m\u001b[0m\u001b[0;34m\u001b[0m\u001b[0m\n",
      "\u001b[0;32m~/miniconda3/envs/ml/lib/python3.6/site-packages/tqdm/std.py\u001b[0m in \u001b[0;36m__iter__\u001b[0;34m(self)\u001b[0m\n\u001b[1;32m   1165\u001b[0m \u001b[0;34m\u001b[0m\u001b[0m\n\u001b[1;32m   1166\u001b[0m         \u001b[0;32mtry\u001b[0m\u001b[0;34m:\u001b[0m\u001b[0;34m\u001b[0m\u001b[0;34m\u001b[0m\u001b[0m\n\u001b[0;32m-> 1167\u001b[0;31m             \u001b[0;32mfor\u001b[0m \u001b[0mobj\u001b[0m \u001b[0;32min\u001b[0m \u001b[0miterable\u001b[0m\u001b[0;34m:\u001b[0m\u001b[0;34m\u001b[0m\u001b[0;34m\u001b[0m\u001b[0m\n\u001b[0m\u001b[1;32m   1168\u001b[0m                 \u001b[0;32myield\u001b[0m \u001b[0mobj\u001b[0m\u001b[0;34m\u001b[0m\u001b[0;34m\u001b[0m\u001b[0m\n\u001b[1;32m   1169\u001b[0m                 \u001b[0;31m# Update and possibly print the progressbar.\u001b[0m\u001b[0;34m\u001b[0m\u001b[0;34m\u001b[0m\u001b[0;34m\u001b[0m\u001b[0m\n",
      "\u001b[0;32m~/miniconda3/envs/ml/lib/python3.6/site-packages/torch/utils/data/dataloader.py\u001b[0m in \u001b[0;36m__next__\u001b[0;34m(self)\u001b[0m\n\u001b[1;32m    433\u001b[0m         \u001b[0;32mif\u001b[0m \u001b[0mself\u001b[0m\u001b[0;34m.\u001b[0m\u001b[0m_sampler_iter\u001b[0m \u001b[0;32mis\u001b[0m \u001b[0;32mNone\u001b[0m\u001b[0;34m:\u001b[0m\u001b[0;34m\u001b[0m\u001b[0;34m\u001b[0m\u001b[0m\n\u001b[1;32m    434\u001b[0m             \u001b[0mself\u001b[0m\u001b[0;34m.\u001b[0m\u001b[0m_reset\u001b[0m\u001b[0;34m(\u001b[0m\u001b[0;34m)\u001b[0m\u001b[0;34m\u001b[0m\u001b[0;34m\u001b[0m\u001b[0m\n\u001b[0;32m--> 435\u001b[0;31m         \u001b[0mdata\u001b[0m \u001b[0;34m=\u001b[0m \u001b[0mself\u001b[0m\u001b[0;34m.\u001b[0m\u001b[0m_next_data\u001b[0m\u001b[0;34m(\u001b[0m\u001b[0;34m)\u001b[0m\u001b[0;34m\u001b[0m\u001b[0;34m\u001b[0m\u001b[0m\n\u001b[0m\u001b[1;32m    436\u001b[0m         \u001b[0mself\u001b[0m\u001b[0;34m.\u001b[0m\u001b[0m_num_yielded\u001b[0m \u001b[0;34m+=\u001b[0m \u001b[0;36m1\u001b[0m\u001b[0;34m\u001b[0m\u001b[0;34m\u001b[0m\u001b[0m\n\u001b[1;32m    437\u001b[0m         \u001b[0;32mif\u001b[0m \u001b[0mself\u001b[0m\u001b[0;34m.\u001b[0m\u001b[0m_dataset_kind\u001b[0m \u001b[0;34m==\u001b[0m \u001b[0m_DatasetKind\u001b[0m\u001b[0;34m.\u001b[0m\u001b[0mIterable\u001b[0m \u001b[0;32mand\u001b[0m\u001b[0;31m \u001b[0m\u001b[0;31m\\\u001b[0m\u001b[0;34m\u001b[0m\u001b[0;34m\u001b[0m\u001b[0m\n",
      "\u001b[0;32m~/miniconda3/envs/ml/lib/python3.6/site-packages/torch/utils/data/dataloader.py\u001b[0m in \u001b[0;36m_next_data\u001b[0;34m(self)\u001b[0m\n\u001b[1;32m    473\u001b[0m     \u001b[0;32mdef\u001b[0m \u001b[0m_next_data\u001b[0m\u001b[0;34m(\u001b[0m\u001b[0mself\u001b[0m\u001b[0;34m)\u001b[0m\u001b[0;34m:\u001b[0m\u001b[0;34m\u001b[0m\u001b[0;34m\u001b[0m\u001b[0m\n\u001b[1;32m    474\u001b[0m         \u001b[0mindex\u001b[0m \u001b[0;34m=\u001b[0m \u001b[0mself\u001b[0m\u001b[0;34m.\u001b[0m\u001b[0m_next_index\u001b[0m\u001b[0;34m(\u001b[0m\u001b[0;34m)\u001b[0m  \u001b[0;31m# may raise StopIteration\u001b[0m\u001b[0;34m\u001b[0m\u001b[0;34m\u001b[0m\u001b[0m\n\u001b[0;32m--> 475\u001b[0;31m         \u001b[0mdata\u001b[0m \u001b[0;34m=\u001b[0m \u001b[0mself\u001b[0m\u001b[0;34m.\u001b[0m\u001b[0m_dataset_fetcher\u001b[0m\u001b[0;34m.\u001b[0m\u001b[0mfetch\u001b[0m\u001b[0;34m(\u001b[0m\u001b[0mindex\u001b[0m\u001b[0;34m)\u001b[0m  \u001b[0;31m# may raise StopIteration\u001b[0m\u001b[0;34m\u001b[0m\u001b[0;34m\u001b[0m\u001b[0m\n\u001b[0m\u001b[1;32m    476\u001b[0m         \u001b[0;32mif\u001b[0m \u001b[0mself\u001b[0m\u001b[0;34m.\u001b[0m\u001b[0m_pin_memory\u001b[0m\u001b[0;34m:\u001b[0m\u001b[0;34m\u001b[0m\u001b[0;34m\u001b[0m\u001b[0m\n\u001b[1;32m    477\u001b[0m             \u001b[0mdata\u001b[0m \u001b[0;34m=\u001b[0m \u001b[0m_utils\u001b[0m\u001b[0;34m.\u001b[0m\u001b[0mpin_memory\u001b[0m\u001b[0;34m.\u001b[0m\u001b[0mpin_memory\u001b[0m\u001b[0;34m(\u001b[0m\u001b[0mdata\u001b[0m\u001b[0;34m)\u001b[0m\u001b[0;34m\u001b[0m\u001b[0;34m\u001b[0m\u001b[0m\n",
      "\u001b[0;32m~/miniconda3/envs/ml/lib/python3.6/site-packages/torch/utils/data/_utils/fetch.py\u001b[0m in \u001b[0;36mfetch\u001b[0;34m(self, possibly_batched_index)\u001b[0m\n\u001b[1;32m     42\u001b[0m     \u001b[0;32mdef\u001b[0m \u001b[0mfetch\u001b[0m\u001b[0;34m(\u001b[0m\u001b[0mself\u001b[0m\u001b[0;34m,\u001b[0m \u001b[0mpossibly_batched_index\u001b[0m\u001b[0;34m)\u001b[0m\u001b[0;34m:\u001b[0m\u001b[0;34m\u001b[0m\u001b[0;34m\u001b[0m\u001b[0m\n\u001b[1;32m     43\u001b[0m         \u001b[0;32mif\u001b[0m \u001b[0mself\u001b[0m\u001b[0;34m.\u001b[0m\u001b[0mauto_collation\u001b[0m\u001b[0;34m:\u001b[0m\u001b[0;34m\u001b[0m\u001b[0;34m\u001b[0m\u001b[0m\n\u001b[0;32m---> 44\u001b[0;31m             \u001b[0mdata\u001b[0m \u001b[0;34m=\u001b[0m \u001b[0;34m[\u001b[0m\u001b[0mself\u001b[0m\u001b[0;34m.\u001b[0m\u001b[0mdataset\u001b[0m\u001b[0;34m[\u001b[0m\u001b[0midx\u001b[0m\u001b[0;34m]\u001b[0m \u001b[0;32mfor\u001b[0m \u001b[0midx\u001b[0m \u001b[0;32min\u001b[0m \u001b[0mpossibly_batched_index\u001b[0m\u001b[0;34m]\u001b[0m\u001b[0;34m\u001b[0m\u001b[0;34m\u001b[0m\u001b[0m\n\u001b[0m\u001b[1;32m     45\u001b[0m         \u001b[0;32melse\u001b[0m\u001b[0;34m:\u001b[0m\u001b[0;34m\u001b[0m\u001b[0;34m\u001b[0m\u001b[0m\n\u001b[1;32m     46\u001b[0m             \u001b[0mdata\u001b[0m \u001b[0;34m=\u001b[0m \u001b[0mself\u001b[0m\u001b[0;34m.\u001b[0m\u001b[0mdataset\u001b[0m\u001b[0;34m[\u001b[0m\u001b[0mpossibly_batched_index\u001b[0m\u001b[0;34m]\u001b[0m\u001b[0;34m\u001b[0m\u001b[0;34m\u001b[0m\u001b[0m\n",
      "\u001b[0;32m~/miniconda3/envs/ml/lib/python3.6/site-packages/torch/utils/data/_utils/fetch.py\u001b[0m in \u001b[0;36m<listcomp>\u001b[0;34m(.0)\u001b[0m\n\u001b[1;32m     42\u001b[0m     \u001b[0;32mdef\u001b[0m \u001b[0mfetch\u001b[0m\u001b[0;34m(\u001b[0m\u001b[0mself\u001b[0m\u001b[0;34m,\u001b[0m \u001b[0mpossibly_batched_index\u001b[0m\u001b[0;34m)\u001b[0m\u001b[0;34m:\u001b[0m\u001b[0;34m\u001b[0m\u001b[0;34m\u001b[0m\u001b[0m\n\u001b[1;32m     43\u001b[0m         \u001b[0;32mif\u001b[0m \u001b[0mself\u001b[0m\u001b[0;34m.\u001b[0m\u001b[0mauto_collation\u001b[0m\u001b[0;34m:\u001b[0m\u001b[0;34m\u001b[0m\u001b[0;34m\u001b[0m\u001b[0m\n\u001b[0;32m---> 44\u001b[0;31m             \u001b[0mdata\u001b[0m \u001b[0;34m=\u001b[0m \u001b[0;34m[\u001b[0m\u001b[0mself\u001b[0m\u001b[0;34m.\u001b[0m\u001b[0mdataset\u001b[0m\u001b[0;34m[\u001b[0m\u001b[0midx\u001b[0m\u001b[0;34m]\u001b[0m \u001b[0;32mfor\u001b[0m \u001b[0midx\u001b[0m \u001b[0;32min\u001b[0m \u001b[0mpossibly_batched_index\u001b[0m\u001b[0;34m]\u001b[0m\u001b[0;34m\u001b[0m\u001b[0;34m\u001b[0m\u001b[0m\n\u001b[0m\u001b[1;32m     45\u001b[0m         \u001b[0;32melse\u001b[0m\u001b[0;34m:\u001b[0m\u001b[0;34m\u001b[0m\u001b[0;34m\u001b[0m\u001b[0m\n\u001b[1;32m     46\u001b[0m             \u001b[0mdata\u001b[0m \u001b[0;34m=\u001b[0m \u001b[0mself\u001b[0m\u001b[0;34m.\u001b[0m\u001b[0mdataset\u001b[0m\u001b[0;34m[\u001b[0m\u001b[0mpossibly_batched_index\u001b[0m\u001b[0;34m]\u001b[0m\u001b[0;34m\u001b[0m\u001b[0;34m\u001b[0m\u001b[0m\n",
      "\u001b[0;32m~/miniconda3/envs/ml/lib/python3.6/site-packages/torchvision/datasets/mnist.py\u001b[0m in \u001b[0;36m__getitem__\u001b[0;34m(self, index)\u001b[0m\n\u001b[1;32m    104\u001b[0m \u001b[0;34m\u001b[0m\u001b[0m\n\u001b[1;32m    105\u001b[0m         \u001b[0;32mif\u001b[0m \u001b[0mself\u001b[0m\u001b[0;34m.\u001b[0m\u001b[0mtransform\u001b[0m \u001b[0;32mis\u001b[0m \u001b[0;32mnot\u001b[0m \u001b[0;32mNone\u001b[0m\u001b[0;34m:\u001b[0m\u001b[0;34m\u001b[0m\u001b[0;34m\u001b[0m\u001b[0m\n\u001b[0;32m--> 106\u001b[0;31m             \u001b[0mimg\u001b[0m \u001b[0;34m=\u001b[0m \u001b[0mself\u001b[0m\u001b[0;34m.\u001b[0m\u001b[0mtransform\u001b[0m\u001b[0;34m(\u001b[0m\u001b[0mimg\u001b[0m\u001b[0;34m)\u001b[0m\u001b[0;34m\u001b[0m\u001b[0;34m\u001b[0m\u001b[0m\n\u001b[0m\u001b[1;32m    107\u001b[0m \u001b[0;34m\u001b[0m\u001b[0m\n\u001b[1;32m    108\u001b[0m         \u001b[0;32mif\u001b[0m \u001b[0mself\u001b[0m\u001b[0;34m.\u001b[0m\u001b[0mtarget_transform\u001b[0m \u001b[0;32mis\u001b[0m \u001b[0;32mnot\u001b[0m \u001b[0;32mNone\u001b[0m\u001b[0;34m:\u001b[0m\u001b[0;34m\u001b[0m\u001b[0;34m\u001b[0m\u001b[0m\n",
      "\u001b[0;32m~/miniconda3/envs/ml/lib/python3.6/site-packages/torchvision/transforms/transforms.py\u001b[0m in \u001b[0;36m__call__\u001b[0;34m(self, img)\u001b[0m\n\u001b[1;32m     65\u001b[0m     \u001b[0;32mdef\u001b[0m \u001b[0m__call__\u001b[0m\u001b[0;34m(\u001b[0m\u001b[0mself\u001b[0m\u001b[0;34m,\u001b[0m \u001b[0mimg\u001b[0m\u001b[0;34m)\u001b[0m\u001b[0;34m:\u001b[0m\u001b[0;34m\u001b[0m\u001b[0;34m\u001b[0m\u001b[0m\n\u001b[1;32m     66\u001b[0m         \u001b[0;32mfor\u001b[0m \u001b[0mt\u001b[0m \u001b[0;32min\u001b[0m \u001b[0mself\u001b[0m\u001b[0;34m.\u001b[0m\u001b[0mtransforms\u001b[0m\u001b[0;34m:\u001b[0m\u001b[0;34m\u001b[0m\u001b[0;34m\u001b[0m\u001b[0m\n\u001b[0;32m---> 67\u001b[0;31m             \u001b[0mimg\u001b[0m \u001b[0;34m=\u001b[0m \u001b[0mt\u001b[0m\u001b[0;34m(\u001b[0m\u001b[0mimg\u001b[0m\u001b[0;34m)\u001b[0m\u001b[0;34m\u001b[0m\u001b[0;34m\u001b[0m\u001b[0m\n\u001b[0m\u001b[1;32m     68\u001b[0m         \u001b[0;32mreturn\u001b[0m \u001b[0mimg\u001b[0m\u001b[0;34m\u001b[0m\u001b[0;34m\u001b[0m\u001b[0m\n\u001b[1;32m     69\u001b[0m \u001b[0;34m\u001b[0m\u001b[0m\n",
      "\u001b[0;32m~/miniconda3/envs/ml/lib/python3.6/site-packages/torch/nn/modules/module.py\u001b[0m in \u001b[0;36m_call_impl\u001b[0;34m(self, *input, **kwargs)\u001b[0m\n\u001b[1;32m    725\u001b[0m             \u001b[0mresult\u001b[0m \u001b[0;34m=\u001b[0m \u001b[0mself\u001b[0m\u001b[0;34m.\u001b[0m\u001b[0m_slow_forward\u001b[0m\u001b[0;34m(\u001b[0m\u001b[0;34m*\u001b[0m\u001b[0minput\u001b[0m\u001b[0;34m,\u001b[0m \u001b[0;34m**\u001b[0m\u001b[0mkwargs\u001b[0m\u001b[0;34m)\u001b[0m\u001b[0;34m\u001b[0m\u001b[0;34m\u001b[0m\u001b[0m\n\u001b[1;32m    726\u001b[0m         \u001b[0;32melse\u001b[0m\u001b[0;34m:\u001b[0m\u001b[0;34m\u001b[0m\u001b[0;34m\u001b[0m\u001b[0m\n\u001b[0;32m--> 727\u001b[0;31m             \u001b[0mresult\u001b[0m \u001b[0;34m=\u001b[0m \u001b[0mself\u001b[0m\u001b[0;34m.\u001b[0m\u001b[0mforward\u001b[0m\u001b[0;34m(\u001b[0m\u001b[0;34m*\u001b[0m\u001b[0minput\u001b[0m\u001b[0;34m,\u001b[0m \u001b[0;34m**\u001b[0m\u001b[0mkwargs\u001b[0m\u001b[0;34m)\u001b[0m\u001b[0;34m\u001b[0m\u001b[0;34m\u001b[0m\u001b[0m\n\u001b[0m\u001b[1;32m    728\u001b[0m         for hook in itertools.chain(\n\u001b[1;32m    729\u001b[0m                 \u001b[0m_global_forward_hooks\u001b[0m\u001b[0;34m.\u001b[0m\u001b[0mvalues\u001b[0m\u001b[0;34m(\u001b[0m\u001b[0;34m)\u001b[0m\u001b[0;34m,\u001b[0m\u001b[0;34m\u001b[0m\u001b[0;34m\u001b[0m\u001b[0m\n",
      "\u001b[0;32m~/miniconda3/envs/ml/lib/python3.6/site-packages/torchvision/transforms/transforms.py\u001b[0m in \u001b[0;36mforward\u001b[0;34m(self, tensor)\u001b[0m\n\u001b[1;32m    224\u001b[0m             \u001b[0mTensor\u001b[0m\u001b[0;34m:\u001b[0m \u001b[0mNormalized\u001b[0m \u001b[0mTensor\u001b[0m \u001b[0mimage\u001b[0m\u001b[0;34m.\u001b[0m\u001b[0;34m\u001b[0m\u001b[0;34m\u001b[0m\u001b[0m\n\u001b[1;32m    225\u001b[0m         \"\"\"\n\u001b[0;32m--> 226\u001b[0;31m         \u001b[0;32mreturn\u001b[0m \u001b[0mF\u001b[0m\u001b[0;34m.\u001b[0m\u001b[0mnormalize\u001b[0m\u001b[0;34m(\u001b[0m\u001b[0mtensor\u001b[0m\u001b[0;34m,\u001b[0m \u001b[0mself\u001b[0m\u001b[0;34m.\u001b[0m\u001b[0mmean\u001b[0m\u001b[0;34m,\u001b[0m \u001b[0mself\u001b[0m\u001b[0;34m.\u001b[0m\u001b[0mstd\u001b[0m\u001b[0;34m,\u001b[0m \u001b[0mself\u001b[0m\u001b[0;34m.\u001b[0m\u001b[0minplace\u001b[0m\u001b[0;34m)\u001b[0m\u001b[0;34m\u001b[0m\u001b[0;34m\u001b[0m\u001b[0m\n\u001b[0m\u001b[1;32m    227\u001b[0m \u001b[0;34m\u001b[0m\u001b[0m\n\u001b[1;32m    228\u001b[0m     \u001b[0;32mdef\u001b[0m \u001b[0m__repr__\u001b[0m\u001b[0;34m(\u001b[0m\u001b[0mself\u001b[0m\u001b[0;34m)\u001b[0m\u001b[0;34m:\u001b[0m\u001b[0;34m\u001b[0m\u001b[0;34m\u001b[0m\u001b[0m\n",
      "\u001b[0;32m~/miniconda3/envs/ml/lib/python3.6/site-packages/torchvision/transforms/functional.py\u001b[0m in \u001b[0;36mnormalize\u001b[0;34m(tensor, mean, std, inplace)\u001b[0m\n\u001b[1;32m    276\u001b[0m     \u001b[0mmean\u001b[0m \u001b[0;34m=\u001b[0m \u001b[0mtorch\u001b[0m\u001b[0;34m.\u001b[0m\u001b[0mas_tensor\u001b[0m\u001b[0;34m(\u001b[0m\u001b[0mmean\u001b[0m\u001b[0;34m,\u001b[0m \u001b[0mdtype\u001b[0m\u001b[0;34m=\u001b[0m\u001b[0mdtype\u001b[0m\u001b[0;34m,\u001b[0m \u001b[0mdevice\u001b[0m\u001b[0;34m=\u001b[0m\u001b[0mtensor\u001b[0m\u001b[0;34m.\u001b[0m\u001b[0mdevice\u001b[0m\u001b[0;34m)\u001b[0m\u001b[0;34m\u001b[0m\u001b[0;34m\u001b[0m\u001b[0m\n\u001b[1;32m    277\u001b[0m     \u001b[0mstd\u001b[0m \u001b[0;34m=\u001b[0m \u001b[0mtorch\u001b[0m\u001b[0;34m.\u001b[0m\u001b[0mas_tensor\u001b[0m\u001b[0;34m(\u001b[0m\u001b[0mstd\u001b[0m\u001b[0;34m,\u001b[0m \u001b[0mdtype\u001b[0m\u001b[0;34m=\u001b[0m\u001b[0mdtype\u001b[0m\u001b[0;34m,\u001b[0m \u001b[0mdevice\u001b[0m\u001b[0;34m=\u001b[0m\u001b[0mtensor\u001b[0m\u001b[0;34m.\u001b[0m\u001b[0mdevice\u001b[0m\u001b[0;34m)\u001b[0m\u001b[0;34m\u001b[0m\u001b[0;34m\u001b[0m\u001b[0m\n\u001b[0;32m--> 278\u001b[0;31m     \u001b[0;32mif\u001b[0m \u001b[0;34m(\u001b[0m\u001b[0mstd\u001b[0m \u001b[0;34m==\u001b[0m \u001b[0;36m0\u001b[0m\u001b[0;34m)\u001b[0m\u001b[0;34m.\u001b[0m\u001b[0many\u001b[0m\u001b[0;34m(\u001b[0m\u001b[0;34m)\u001b[0m\u001b[0;34m:\u001b[0m\u001b[0;34m\u001b[0m\u001b[0;34m\u001b[0m\u001b[0m\n\u001b[0m\u001b[1;32m    279\u001b[0m         \u001b[0;32mraise\u001b[0m \u001b[0mValueError\u001b[0m\u001b[0;34m(\u001b[0m\u001b[0;34m'std evaluated to zero after conversion to {}, leading to division by zero.'\u001b[0m\u001b[0;34m.\u001b[0m\u001b[0mformat\u001b[0m\u001b[0;34m(\u001b[0m\u001b[0mdtype\u001b[0m\u001b[0;34m)\u001b[0m\u001b[0;34m)\u001b[0m\u001b[0;34m\u001b[0m\u001b[0;34m\u001b[0m\u001b[0m\n\u001b[1;32m    280\u001b[0m     \u001b[0;32mif\u001b[0m \u001b[0mmean\u001b[0m\u001b[0;34m.\u001b[0m\u001b[0mndim\u001b[0m \u001b[0;34m==\u001b[0m \u001b[0;36m1\u001b[0m\u001b[0;34m:\u001b[0m\u001b[0;34m\u001b[0m\u001b[0;34m\u001b[0m\u001b[0m\n",
      "\u001b[0;31mKeyboardInterrupt\u001b[0m: "
     ]
    }
   ],
   "source": [
    "W1, b1, W2, b2 = initialize_weights()\n",
    "lr = 0.01\n",
    "losses = []\n",
    "accuracies = []\n",
    "for epoch in range(3):\n",
    "    total_loss = 0\n",
    "    total_accuracy = 0\n",
    "    for i, data in tqdm(enumerate(train_loader)):\n",
    "        images, labels = data\n",
    "        images = images.numpy() #(64, 1, 28, 28)\n",
    "        if images.shape[0] != train_batch_size:\n",
    "            continue\n",
    "        labels = Tensor(labels.numpy()) #(64,)\n",
    "        batch_size = images.shape[0]\n",
    "        \n",
    "        # forward pass\n",
    "        images = Tensor(images.reshape(batch_size, -1))\n",
    "        H1 = images.dot(W1) + b1 # (64, 200)\n",
    "        relu = nn.Relu()\n",
    "        A1 = relu(H1) # (64, 200)\n",
    "        H2 = A1.dot(W2) + b2 # (64, 10)\n",
    "        \n",
    "        # calculate loss\n",
    "        cross_entropy_loss = nn.CrossEntropyLoss()\n",
    "        loss = cross_entropy_loss(H2, labels)\n",
    "        losses.append(loss.data)\n",
    "        total_loss += loss.data\n",
    "        \n",
    "        # calculate accuracy\n",
    "        accuracy = (np.argmax(H2.data, axis=1) == labels.data).sum() / labels.shape[0]\n",
    "        accuracies.append(accuracy)\n",
    "        total_accuracy += accuracy\n",
    "        \n",
    "        # backward pass, compute gradients\n",
    "        loss.backward()\n",
    "        \n",
    "        # SGD update weights\n",
    "        W1.data = W1.data - lr * W1.grad\n",
    "        W2.data = W2.data - lr * W2.grad\n",
    "        b1.data = b1.data - lr * b1.grad\n",
    "        b2.data = b2.data - lr * b2.grad\n",
    "#         print(W1.shape, W2.shape, b1.shape, b2.shape)\n",
    "    print(f'Epoch {epoch+1}, Loss: {total_loss/(i+1)}, Accuracy: {total_accuracy/(i+1)}')"
   ]
  },
  {
   "cell_type": "code",
   "execution_count": 57,
   "metadata": {},
   "outputs": [
    {
     "data": {
      "image/png": "[encoded data removed]",
      "text/plain": [
       "<Figure size 1440x504 with 2 Axes>"
      ]
     },
     "metadata": {
      "needs_background": "light"
     },
     "output_type": "display_data"
    }
   ],
   "source": [
    "plt.figure(figsize=(20,7))\n",
    "ax1 = plt.subplot(1, 2, 1)\n",
    "ax1.plot(losses)\n",
    "ax1.legend(['Loss'])\n",
    "ax2 = plt.subplot(1, 2, 2)\n",
    "ax2.plot(accuracies, color='orange')\n",
    "ax2.legend(['Accuracy'])\n",
    "plt.show()"
   ]
  },
  {
   "cell_type": "code",
   "execution_count": 58,
   "metadata": {},
   "outputs": [
    {
     "name": "stdout",
     "output_type": "stream",
     "text": [
      "Accuracy on test set: 0.8742988782051282\n"
     ]
    }
   ],
   "source": [
    "correct = 0\n",
    "total = 0\n",
    "for data in test_loader:\n",
    "    images, labels = data\n",
    "    images = images.numpy().reshape(images.shape[0], -1)\n",
    "    if images.shape[0] != 64:\n",
    "        continue\n",
    "    images = Tensor(images)\n",
    "    labels = Tensor(labels.numpy())\n",
    "    \n",
    "    # forward pass\n",
    "    H1 = images.dot(W1) + b1 # (64, 200)\n",
    "    A1 = relu(H1) # (64, 200)\n",
    "    H2 = A1.dot(W2) + b2 # (64, 10)\n",
    "    \n",
    "    correct += (np.argmax(H2.data, axis=1) == labels.data).sum()\n",
    "    total += labels.shape[0]\n",
    "print(f'Accuracy on test set: {correct / total}')"
   ]
  },
  {
   "cell_type": "code",
   "execution_count": null,
   "metadata": {},
   "outputs": [],
   "source": []
  }
 ],
 "metadata": {
  "hide_input": false,
  "kernelspec": {
   "display_name": "Python 3",
   "language": "python",
   "name": "python3"
  },
  "language_info": {
   "codemirror_mode": {
    "name": "ipython",
    "version": 3
   },
   "file_extension": ".py",
   "mimetype": "text/x-python",
   "name": "python",
   "nbconvert_exporter": "python",
   "pygments_lexer": "ipython3",
   "version": "3.6.12"
  },
  "toc": {
   "base_numbering": 1,
   "nav_menu": {},
   "number_sections": true,
   "sideBar": true,
   "skip_h1_title": false,
   "title_cell": "Table of Contents",
   "title_sidebar": "Contents",
   "toc_cell": false,
   "toc_position": {},
   "toc_section_display": true,
   "toc_window_display": false
  },
  "varInspector": {
   "cols": {
    "lenName": 16,
    "lenType": 16,
    "lenVar": 40
   },
   "kernels_config": {
    "python": {
     "delete_cmd_postfix": "",
     "delete_cmd_prefix": "del ",
     "library": "var_list.py",
     "varRefreshCmd": "print(var_dic_list())"
    },
    "r": {
     "delete_cmd_postfix": ") ",
     "delete_cmd_prefix": "rm(",
     "library": "var_list.r",
     "varRefreshCmd": "cat(var_dic_list()) "
    }
   },
   "types_to_exclude": [
    "module",
    "function",
    "builtin_function_or_method",
    "instance",
    "_Feature"
   ],
   "window_display": false
  }
 },
 "nbformat": 4,
 "nbformat_minor": 4
}
